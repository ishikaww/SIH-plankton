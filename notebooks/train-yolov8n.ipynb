{
  "cells": [
    {
      "cell_type": "markdown",
      "metadata": {
        "id": "view-in-github",
        "colab_type": "text"
      },
      "source": [
        "<a href=\"https://colab.research.google.com/github/ishikaww/SIH-plankton/blob/main/notebooks/train-yolov8n.ipynb\" target=\"_parent\"><img src=\"https://colab.research.google.com/assets/colab-badge.svg\" alt=\"Open In Colab\"/></a>"
      ]
    },
    {
      "cell_type": "code",
      "execution_count": 1,
      "metadata": {
        "colab": {
          "base_uri": "https://localhost:8080/"
        },
        "id": "Y8cDtxLIBHgQ",
        "outputId": "33a08c19-0dd2-4c6a-b038-81a390c217bd"
      },
      "outputs": [
        {
          "output_type": "stream",
          "name": "stdout",
          "text": [
            "Tue Sep 16 18:49:49 2025       \n",
            "+-----------------------------------------------------------------------------------------+\n",
            "| NVIDIA-SMI 550.54.15              Driver Version: 550.54.15      CUDA Version: 12.4     |\n",
            "|-----------------------------------------+------------------------+----------------------+\n",
            "| GPU  Name                 Persistence-M | Bus-Id          Disp.A | Volatile Uncorr. ECC |\n",
            "| Fan  Temp   Perf          Pwr:Usage/Cap |           Memory-Usage | GPU-Util  Compute M. |\n",
            "|                                         |                        |               MIG M. |\n",
            "|=========================================+========================+======================|\n",
            "|   0  Tesla T4                       Off |   00000000:00:04.0 Off |                    0 |\n",
            "| N/A   42C    P8              9W /   70W |       0MiB /  15360MiB |      0%      Default |\n",
            "|                                         |                        |                  N/A |\n",
            "+-----------------------------------------+------------------------+----------------------+\n",
            "                                                                                         \n",
            "+-----------------------------------------------------------------------------------------+\n",
            "| Processes:                                                                              |\n",
            "|  GPU   GI   CI        PID   Type   Process name                              GPU Memory |\n",
            "|        ID   ID                                                               Usage      |\n",
            "|=========================================================================================|\n",
            "|  No running processes found                                                             |\n",
            "+-----------------------------------------------------------------------------------------+\n"
          ]
        }
      ],
      "source": [
        "!nvidia-smi"
      ]
    },
    {
      "cell_type": "code",
      "execution_count": 2,
      "metadata": {
        "colab": {
          "base_uri": "https://localhost:8080/"
        },
        "id": "CjpPg4mGKc1v",
        "outputId": "01cfed10-40c8-4554-ee3c-a64befbf5076"
      },
      "outputs": [
        {
          "output_type": "stream",
          "name": "stdout",
          "text": [
            "/content\n"
          ]
        }
      ],
      "source": [
        "import os\n",
        "HOME = os.getcwd()\n",
        "print(HOME)"
      ]
    },
    {
      "cell_type": "markdown",
      "metadata": {
        "id": "3C3EO_2zNChu"
      },
      "source": [
        "## Install YOLOv8\n",
        "\n",
        "To install YOL0v8, run the following command:"
      ]
    },
    {
      "cell_type": "code",
      "execution_count": 3,
      "metadata": {
        "colab": {
          "base_uri": "https://localhost:8080/"
        },
        "id": "tdSMcABDNKW-",
        "outputId": "458a2513-c975-4631-dfc4-71e75aec6b3a"
      },
      "outputs": [
        {
          "output_type": "stream",
          "name": "stdout",
          "text": [
            "Ultralytics YOLOv8.2.103 🚀 Python-3.12.11 torch-2.8.0+cu126 CUDA:0 (Tesla T4, 15095MiB)\n",
            "Setup complete ✅ (2 CPUs, 12.7 GB RAM, 39.7/112.6 GB disk)\n"
          ]
        }
      ],
      "source": [
        "!pip install ultralytics==8.2.103 -q\n",
        "\n",
        "# prevent ultralytics from tracking your activity\n",
        "!yolo settings sync=False\n",
        "\n",
        "import ultralytics\n",
        "ultralytics.checks()"
      ]
    },
    {
      "cell_type": "markdown",
      "metadata": {
        "id": "3LXblltB36Qq"
      },
      "source": [
        "Now, we can import YOLOv8 into our Notebook:"
      ]
    },
    {
      "cell_type": "code",
      "execution_count": 4,
      "metadata": {
        "id": "VOEYrlBoP9-E"
      },
      "outputs": [],
      "source": [
        "from ultralytics import YOLO\n",
        "\n",
        "from IPython.display import display, Image"
      ]
    },
    {
      "cell_type": "code",
      "execution_count": 6,
      "metadata": {
        "colab": {
          "base_uri": "https://localhost:8080/"
        },
        "id": "BSd93ZJzZZKt",
        "outputId": "356d118f-b839-429f-b2e6-c45915e5bb12"
      },
      "outputs": [
        {
          "output_type": "stream",
          "name": "stdout",
          "text": [
            "/content/datasets\n",
            "You are already logged into Roboflow. To make a different login,run roboflow.login(force=True).\n",
            "loading Roboflow workspace...\n",
            "loading Roboflow project...\n"
          ]
        }
      ],
      "source": [
        "# Create datasets folder and move into it\n",
        "!mkdir -p {HOME}/datasets\n",
        "%cd {HOME}/datasets\n",
        "\n",
        "# Install roboflow\n",
        "!pip install roboflow --quiet\n",
        "\n",
        "import roboflow\n",
        "\n",
        "# Login to Roboflow (this will ask for your API key)\n",
        "roboflow.login()\n",
        "\n",
        "# Initialize Roboflow\n",
        "rf = roboflow.Roboflow()\n",
        "\n",
        "# Load your specific project and dataset\n",
        "project = rf.workspace(\"plant-disease-zbikw\").project(\"plankton-detection-sih-d7byp\")\n",
        "\n",
        "# Download the dataset in YOLOv8 format\n",
        "dataset = project.version(7).download(\"yolov8\")"
      ]
    },
    {
      "cell_type": "code",
      "execution_count": 7,
      "metadata": {
        "id": "gj8tP5KO8XNP"
      },
      "outputs": [],
      "source": [
        "import yaml\n",
        "\n",
        "with open(f'{dataset.location}/data.yaml', 'r') as f:\n",
        "    data = yaml.safe_load(f)\n",
        "data['train'] = '../train/images'\n",
        "data['val'] = '../valid/images'\n",
        "data['test'] = '../test/images'\n",
        "if 'path' in data:\n",
        "  del data['path']\n",
        "with open(f'{dataset.location}/data.yaml', 'w') as f:\n",
        "    yaml.dump(data, f, sort_keys=False)"
      ]
    },
    {
      "cell_type": "markdown",
      "metadata": {
        "id": "YUjFBKKqXa-u"
      },
      "source": [
        "## Train a YOLOv8 OBB Object Detection Model\n",
        "\n",
        "With our dataset downloaded, we can now train a YOLOv8 OBB object detection model. Run the code snippet below to start training your model:"
      ]
    },
    {
      "cell_type": "code",
      "execution_count": 9,
      "metadata": {
        "colab": {
          "base_uri": "https://localhost:8080/"
        },
        "collapsed": true,
        "id": "D2YkphuiaE7_",
        "outputId": "4a7ead04-d43d-473e-de81-50f53c317d16"
      },
      "outputs": [
        {
          "output_type": "stream",
          "name": "stdout",
          "text": [
            "New https://pypi.org/project/ultralytics/8.3.200 available 😃 Update with 'pip install -U ultralytics'\n",
            "Ultralytics YOLOv8.2.103 🚀 Python-3.12.11 torch-2.8.0+cu126 CUDA:0 (Tesla T4, 15095MiB)\n",
            "\u001b[34m\u001b[1mengine/trainer: \u001b[0mtask=detect, mode=train, model=yolov8n.pt, data=/content/datasets/Plankton-Detection-SIH-7/data.yaml, epochs=100, time=None, patience=100, batch=16, imgsz=640, save=True, save_period=-1, cache=False, device=None, workers=8, project=None, name=train, exist_ok=False, pretrained=True, optimizer=auto, verbose=True, seed=0, deterministic=True, single_cls=False, rect=False, cos_lr=False, close_mosaic=10, resume=False, amp=True, fraction=1.0, profile=False, freeze=None, multi_scale=False, overlap_mask=True, mask_ratio=4, dropout=0.0, val=True, split=val, save_json=False, save_hybrid=False, conf=None, iou=0.7, max_det=300, half=False, dnn=False, plots=True, source=None, vid_stride=1, stream_buffer=False, visualize=False, augment=False, agnostic_nms=False, classes=None, retina_masks=False, embed=None, show=False, save_frames=False, save_txt=False, save_conf=False, save_crop=False, show_labels=True, show_conf=True, show_boxes=True, line_width=None, format=torchscript, keras=False, optimize=False, int8=False, dynamic=False, simplify=True, opset=None, workspace=4, nms=False, lr0=0.01, lrf=0.01, momentum=0.937, weight_decay=0.0005, warmup_epochs=3.0, warmup_momentum=0.8, warmup_bias_lr=0.1, box=7.5, cls=0.5, dfl=1.5, pose=12.0, kobj=1.0, label_smoothing=0.0, nbs=64, hsv_h=0.015, hsv_s=0.7, hsv_v=0.4, degrees=0.0, translate=0.1, scale=0.5, shear=0.0, perspective=0.0, flipud=0.0, fliplr=0.5, bgr=0.0, mosaic=1.0, mixup=0.0, copy_paste=0.0, auto_augment=randaugment, erasing=0.4, crop_fraction=1.0, cfg=None, tracker=botsort.yaml, save_dir=runs/detect/train\n",
            "Overriding model.yaml nc=80 with nc=127\n",
            "\n",
            "                   from  n    params  module                                       arguments                     \n",
            "  0                  -1  1       464  ultralytics.nn.modules.conv.Conv             [3, 16, 3, 2]                 \n",
            "  1                  -1  1      4672  ultralytics.nn.modules.conv.Conv             [16, 32, 3, 2]                \n",
            "  2                  -1  1      7360  ultralytics.nn.modules.block.C2f             [32, 32, 1, True]             \n",
            "  3                  -1  1     18560  ultralytics.nn.modules.conv.Conv             [32, 64, 3, 2]                \n",
            "  4                  -1  2     49664  ultralytics.nn.modules.block.C2f             [64, 64, 2, True]             \n",
            "  5                  -1  1     73984  ultralytics.nn.modules.conv.Conv             [64, 128, 3, 2]               \n",
            "  6                  -1  2    197632  ultralytics.nn.modules.block.C2f             [128, 128, 2, True]           \n",
            "  7                  -1  1    295424  ultralytics.nn.modules.conv.Conv             [128, 256, 3, 2]              \n",
            "  8                  -1  1    460288  ultralytics.nn.modules.block.C2f             [256, 256, 1, True]           \n",
            "  9                  -1  1    164608  ultralytics.nn.modules.block.SPPF            [256, 256, 5]                 \n",
            " 10                  -1  1         0  torch.nn.modules.upsampling.Upsample         [None, 2, 'nearest']          \n",
            " 11             [-1, 6]  1         0  ultralytics.nn.modules.conv.Concat           [1]                           \n",
            " 12                  -1  1    148224  ultralytics.nn.modules.block.C2f             [384, 128, 1]                 \n",
            " 13                  -1  1         0  torch.nn.modules.upsampling.Upsample         [None, 2, 'nearest']          \n",
            " 14             [-1, 4]  1         0  ultralytics.nn.modules.conv.Concat           [1]                           \n",
            " 15                  -1  1     37248  ultralytics.nn.modules.block.C2f             [192, 64, 1]                  \n",
            " 16                  -1  1     36992  ultralytics.nn.modules.conv.Conv             [64, 64, 3, 2]                \n",
            " 17            [-1, 12]  1         0  ultralytics.nn.modules.conv.Concat           [1]                           \n",
            " 18                  -1  1    123648  ultralytics.nn.modules.block.C2f             [192, 128, 1]                 \n",
            " 19                  -1  1    147712  ultralytics.nn.modules.conv.Conv             [128, 128, 3, 2]              \n",
            " 20             [-1, 9]  1         0  ultralytics.nn.modules.conv.Concat           [1]                           \n",
            " 21                  -1  1    493056  ultralytics.nn.modules.block.C2f             [384, 256, 1]                 \n",
            " 22        [15, 18, 21]  1   1094785  ultralytics.nn.modules.head.Detect           [127, [64, 128, 256]]         \n",
            "Model summary: 225 layers, 3,354,321 parameters, 3,354,305 gradients, 9.8 GFLOPs\n",
            "\n",
            "Transferred 319/355 items from pretrained weights\n",
            "\u001b[34m\u001b[1mTensorBoard: \u001b[0mStart with 'tensorboard --logdir runs/detect/train', view at http://localhost:6006/\n",
            "Freezing layer 'model.22.dfl.conv.weight'\n",
            "\u001b[34m\u001b[1mAMP: \u001b[0mrunning Automatic Mixed Precision (AMP) checks with YOLOv8n...\n",
            "\u001b[34m\u001b[1mAMP: \u001b[0mchecks passed ✅\n"
          ]
        },
        {
          "output_type": "stream",
          "name": "stderr",
          "text": [
            "\u001b[34m\u001b[1mtrain: \u001b[0mScanning /content/datasets/Plankton-Detection-SIH-7/train/labels.cache... 8088 images, 129 backgrounds, 0 corrupt: 100%|██████████| 8088/8088 [00:00<?, ?it/s]\n"
          ]
        },
        {
          "output_type": "stream",
          "name": "stdout",
          "text": [
            "\u001b[34m\u001b[1malbumentations: \u001b[0mBlur(p=0.01, blur_limit=(3, 7)), MedianBlur(p=0.01, blur_limit=(3, 7)), ToGray(p=0.01, method='weighted_average', num_output_channels=3), CLAHE(p=0.01, clip_limit=(1.0, 4.0), tile_grid_size=(8, 8))\n"
          ]
        },
        {
          "output_type": "stream",
          "name": "stderr",
          "text": [
            "Argument(s) 'quality_lower' are not valid for transform ImageCompression\n",
            "\u001b[34m\u001b[1mval: \u001b[0mScanning /content/datasets/Plankton-Detection-SIH-7/valid/labels.cache... 1008 images, 18 backgrounds, 0 corrupt: 100%|██████████| 1008/1008 [00:00<?, ?it/s]\n"
          ]
        },
        {
          "output_type": "stream",
          "name": "stdout",
          "text": [
            "Plotting labels to runs/detect/train/labels.jpg... \n",
            "\u001b[34m\u001b[1moptimizer:\u001b[0m 'optimizer=auto' found, ignoring 'lr0=0.01' and 'momentum=0.937' and determining best 'optimizer', 'lr0' and 'momentum' automatically... \n",
            "\u001b[34m\u001b[1moptimizer:\u001b[0m SGD(lr=0.01, momentum=0.9) with parameter groups 57 weight(decay=0.0), 64 weight(decay=0.0005), 63 bias(decay=0.0)\n",
            "\u001b[34m\u001b[1mTensorBoard: \u001b[0mmodel graph visualization added ✅\n",
            "Image sizes 640 train, 640 val\n",
            "Using 2 dataloader workers\n",
            "Logging results to \u001b[1mruns/detect/train\u001b[0m\n",
            "Starting training for 100 epochs...\n",
            "\n",
            "      Epoch    GPU_mem   box_loss   cls_loss   dfl_loss  Instances       Size\n"
          ]
        },
        {
          "output_type": "stream",
          "name": "stderr",
          "text": [
            "      1/100      4.59G      1.181      4.949      1.581         16        640: 100%|██████████| 506/506 [02:19<00:00,  3.63it/s]\n",
            "                 Class     Images  Instances      Box(P          R      mAP50  mAP50-95): 100%|██████████| 32/32 [00:10<00:00,  2.91it/s]"
          ]
        },
        {
          "output_type": "stream",
          "name": "stdout",
          "text": [
            "                   all       1008        998    0.00995       0.58     0.0271     0.0174\n"
          ]
        },
        {
          "output_type": "stream",
          "name": "stderr",
          "text": [
            "\n"
          ]
        },
        {
          "output_type": "stream",
          "name": "stdout",
          "text": [
            "\n",
            "      Epoch    GPU_mem   box_loss   cls_loss   dfl_loss  Instances       Size\n"
          ]
        },
        {
          "output_type": "stream",
          "name": "stderr",
          "text": [
            "      2/100      4.44G      1.146       4.16       1.51         23        640: 100%|██████████| 506/506 [02:14<00:00,  3.77it/s]\n",
            "                 Class     Images  Instances      Box(P          R      mAP50  mAP50-95): 100%|██████████| 32/32 [00:07<00:00,  4.09it/s]\n"
          ]
        },
        {
          "output_type": "stream",
          "name": "stdout",
          "text": [
            "                   all       1008        998     0.0128      0.853     0.0701     0.0446\n",
            "\n",
            "      Epoch    GPU_mem   box_loss   cls_loss   dfl_loss  Instances       Size\n"
          ]
        },
        {
          "output_type": "stream",
          "name": "stderr",
          "text": [
            "      3/100      4.44G      1.162      3.666      1.482         19        640: 100%|██████████| 506/506 [02:13<00:00,  3.79it/s]\n",
            "                 Class     Images  Instances      Box(P          R      mAP50  mAP50-95): 100%|██████████| 32/32 [00:07<00:00,  4.14it/s]\n"
          ]
        },
        {
          "output_type": "stream",
          "name": "stdout",
          "text": [
            "                   all       1008        998     0.0123      0.219     0.0205     0.0105\n",
            "\n",
            "      Epoch    GPU_mem   box_loss   cls_loss   dfl_loss  Instances       Size\n"
          ]
        },
        {
          "output_type": "stream",
          "name": "stderr",
          "text": [
            "      4/100      4.43G      1.139      3.445      1.436         18        640: 100%|██████████| 506/506 [02:12<00:00,  3.80it/s]\n",
            "                 Class     Images  Instances      Box(P          R      mAP50  mAP50-95): 100%|██████████| 32/32 [00:07<00:00,  4.24it/s]\n"
          ]
        },
        {
          "output_type": "stream",
          "name": "stdout",
          "text": [
            "                   all       1008        998      0.358      0.346      0.174      0.129\n",
            "\n",
            "      Epoch    GPU_mem   box_loss   cls_loss   dfl_loss  Instances       Size\n"
          ]
        },
        {
          "output_type": "stream",
          "name": "stderr",
          "text": [
            "      5/100      4.44G      1.108      3.202      1.405         24        640: 100%|██████████| 506/506 [02:12<00:00,  3.83it/s]\n",
            "                 Class     Images  Instances      Box(P          R      mAP50  mAP50-95): 100%|██████████| 32/32 [00:07<00:00,  4.51it/s]\n"
          ]
        },
        {
          "output_type": "stream",
          "name": "stdout",
          "text": [
            "                   all       1008        998       0.33      0.185     0.0947     0.0684\n",
            "\n",
            "      Epoch    GPU_mem   box_loss   cls_loss   dfl_loss  Instances       Size\n"
          ]
        },
        {
          "output_type": "stream",
          "name": "stderr",
          "text": [
            "      6/100      4.43G      1.074      2.989      1.378         16        640: 100%|██████████| 506/506 [02:13<00:00,  3.80it/s]\n",
            "                 Class     Images  Instances      Box(P          R      mAP50  mAP50-95): 100%|██████████| 32/32 [00:06<00:00,  4.64it/s]\n"
          ]
        },
        {
          "output_type": "stream",
          "name": "stdout",
          "text": [
            "                   all       1008        998      0.331      0.321      0.188      0.145\n",
            "\n",
            "      Epoch    GPU_mem   box_loss   cls_loss   dfl_loss  Instances       Size\n"
          ]
        },
        {
          "output_type": "stream",
          "name": "stderr",
          "text": [
            "      7/100      4.44G      1.057      2.817      1.366         25        640: 100%|██████████| 506/506 [02:11<00:00,  3.85it/s]\n",
            "                 Class     Images  Instances      Box(P          R      mAP50  mAP50-95): 100%|██████████| 32/32 [00:07<00:00,  4.18it/s]\n"
          ]
        },
        {
          "output_type": "stream",
          "name": "stdout",
          "text": [
            "                   all       1008        998      0.326      0.365      0.253      0.186\n",
            "\n",
            "      Epoch    GPU_mem   box_loss   cls_loss   dfl_loss  Instances       Size\n"
          ]
        },
        {
          "output_type": "stream",
          "name": "stderr",
          "text": [
            "      8/100      4.45G      1.044      2.702      1.353         22        640: 100%|██████████| 506/506 [02:11<00:00,  3.85it/s]\n",
            "                 Class     Images  Instances      Box(P          R      mAP50  mAP50-95): 100%|██████████| 32/32 [00:07<00:00,  4.14it/s]\n"
          ]
        },
        {
          "output_type": "stream",
          "name": "stdout",
          "text": [
            "                   all       1008        998      0.345       0.39      0.272      0.211\n",
            "\n",
            "      Epoch    GPU_mem   box_loss   cls_loss   dfl_loss  Instances       Size\n"
          ]
        },
        {
          "output_type": "stream",
          "name": "stderr",
          "text": [
            "      9/100      4.44G      1.034       2.61      1.341         20        640: 100%|██████████| 506/506 [02:12<00:00,  3.83it/s]\n",
            "                 Class     Images  Instances      Box(P          R      mAP50  mAP50-95): 100%|██████████| 32/32 [00:07<00:00,  4.16it/s]\n"
          ]
        },
        {
          "output_type": "stream",
          "name": "stdout",
          "text": [
            "                   all       1008        998       0.32       0.36      0.245      0.187\n",
            "\n",
            "      Epoch    GPU_mem   box_loss   cls_loss   dfl_loss  Instances       Size\n"
          ]
        },
        {
          "output_type": "stream",
          "name": "stderr",
          "text": [
            "     10/100      4.43G      1.017      2.528      1.333         24        640: 100%|██████████| 506/506 [02:12<00:00,  3.83it/s]\n",
            "                 Class     Images  Instances      Box(P          R      mAP50  mAP50-95): 100%|██████████| 32/32 [00:07<00:00,  4.42it/s]\n"
          ]
        },
        {
          "output_type": "stream",
          "name": "stdout",
          "text": [
            "                   all       1008        998      0.336      0.385      0.287      0.223\n",
            "\n",
            "      Epoch    GPU_mem   box_loss   cls_loss   dfl_loss  Instances       Size\n"
          ]
        },
        {
          "output_type": "stream",
          "name": "stderr",
          "text": [
            "     11/100      4.44G      1.003      2.454      1.324         17        640: 100%|██████████| 506/506 [02:11<00:00,  3.84it/s]\n",
            "                 Class     Images  Instances      Box(P          R      mAP50  mAP50-95): 100%|██████████| 32/32 [00:06<00:00,  4.64it/s]\n"
          ]
        },
        {
          "output_type": "stream",
          "name": "stdout",
          "text": [
            "                   all       1008        998      0.347      0.479      0.352      0.276\n",
            "\n",
            "      Epoch    GPU_mem   box_loss   cls_loss   dfl_loss  Instances       Size\n"
          ]
        },
        {
          "output_type": "stream",
          "name": "stderr",
          "text": [
            "     12/100      4.43G      0.999      2.415      1.323         21        640: 100%|██████████| 506/506 [02:13<00:00,  3.80it/s]\n",
            "                 Class     Images  Instances      Box(P          R      mAP50  mAP50-95): 100%|██████████| 32/32 [00:06<00:00,  4.74it/s]\n"
          ]
        },
        {
          "output_type": "stream",
          "name": "stdout",
          "text": [
            "                   all       1008        998      0.328      0.432       0.36      0.276\n",
            "\n",
            "      Epoch    GPU_mem   box_loss   cls_loss   dfl_loss  Instances       Size\n"
          ]
        },
        {
          "output_type": "stream",
          "name": "stderr",
          "text": [
            "     13/100      4.44G     0.9975      2.384      1.321         22        640: 100%|██████████| 506/506 [02:11<00:00,  3.86it/s]\n",
            "                 Class     Images  Instances      Box(P          R      mAP50  mAP50-95): 100%|██████████| 32/32 [00:07<00:00,  4.11it/s]\n"
          ]
        },
        {
          "output_type": "stream",
          "name": "stdout",
          "text": [
            "                   all       1008        998      0.389      0.213      0.171      0.103\n",
            "\n",
            "      Epoch    GPU_mem   box_loss   cls_loss   dfl_loss  Instances       Size\n"
          ]
        },
        {
          "output_type": "stream",
          "name": "stderr",
          "text": [
            "     14/100      4.43G     0.9882      2.324      1.316         22        640: 100%|██████████| 506/506 [02:10<00:00,  3.86it/s]\n",
            "                 Class     Images  Instances      Box(P          R      mAP50  mAP50-95): 100%|██████████| 32/32 [00:07<00:00,  4.17it/s]\n"
          ]
        },
        {
          "output_type": "stream",
          "name": "stdout",
          "text": [
            "                   all       1008        998      0.474      0.449      0.428      0.341\n",
            "\n",
            "      Epoch    GPU_mem   box_loss   cls_loss   dfl_loss  Instances       Size\n"
          ]
        },
        {
          "output_type": "stream",
          "name": "stderr",
          "text": [
            "     15/100      4.44G     0.9808      2.295      1.306         28        640: 100%|██████████| 506/506 [02:11<00:00,  3.86it/s]\n",
            "                 Class     Images  Instances      Box(P          R      mAP50  mAP50-95): 100%|██████████| 32/32 [00:07<00:00,  4.16it/s]\n"
          ]
        },
        {
          "output_type": "stream",
          "name": "stdout",
          "text": [
            "                   all       1008        998      0.351      0.467      0.374       0.29\n",
            "\n",
            "      Epoch    GPU_mem   box_loss   cls_loss   dfl_loss  Instances       Size\n"
          ]
        },
        {
          "output_type": "stream",
          "name": "stderr",
          "text": [
            "     16/100      4.43G     0.9751      2.262      1.305         21        640: 100%|██████████| 506/506 [02:12<00:00,  3.83it/s]\n",
            "                 Class     Images  Instances      Box(P          R      mAP50  mAP50-95): 100%|██████████| 32/32 [00:06<00:00,  4.65it/s]\n"
          ]
        },
        {
          "output_type": "stream",
          "name": "stdout",
          "text": [
            "                   all       1008        998      0.351      0.467      0.393      0.312\n",
            "\n",
            "      Epoch    GPU_mem   box_loss   cls_loss   dfl_loss  Instances       Size\n"
          ]
        },
        {
          "output_type": "stream",
          "name": "stderr",
          "text": [
            "     17/100      4.44G       0.97      2.235      1.301         22        640: 100%|██████████| 506/506 [02:13<00:00,  3.79it/s]\n",
            "                 Class     Images  Instances      Box(P          R      mAP50  mAP50-95): 100%|██████████| 32/32 [00:06<00:00,  4.74it/s]\n"
          ]
        },
        {
          "output_type": "stream",
          "name": "stdout",
          "text": [
            "                   all       1008        998      0.373      0.514      0.433      0.343\n",
            "\n",
            "      Epoch    GPU_mem   box_loss   cls_loss   dfl_loss  Instances       Size\n"
          ]
        },
        {
          "output_type": "stream",
          "name": "stderr",
          "text": [
            "     18/100      4.43G     0.9645      2.203      1.301         17        640: 100%|██████████| 506/506 [02:13<00:00,  3.78it/s]\n",
            "                 Class     Images  Instances      Box(P          R      mAP50  mAP50-95): 100%|██████████| 32/32 [00:06<00:00,  4.69it/s]\n"
          ]
        },
        {
          "output_type": "stream",
          "name": "stdout",
          "text": [
            "                   all       1008        998       0.45      0.474      0.447      0.355\n",
            "\n",
            "      Epoch    GPU_mem   box_loss   cls_loss   dfl_loss  Instances       Size\n"
          ]
        },
        {
          "output_type": "stream",
          "name": "stderr",
          "text": [
            "     19/100      4.44G     0.9558      2.191      1.292         19        640: 100%|██████████| 506/506 [02:12<00:00,  3.81it/s]\n",
            "                 Class     Images  Instances      Box(P          R      mAP50  mAP50-95): 100%|██████████| 32/32 [00:07<00:00,  4.36it/s]\n"
          ]
        },
        {
          "output_type": "stream",
          "name": "stdout",
          "text": [
            "                   all       1008        998      0.468      0.505      0.499      0.401\n",
            "\n",
            "      Epoch    GPU_mem   box_loss   cls_loss   dfl_loss  Instances       Size\n"
          ]
        },
        {
          "output_type": "stream",
          "name": "stderr",
          "text": [
            "     20/100      4.43G     0.9556      2.161      1.291         23        640: 100%|██████████| 506/506 [02:11<00:00,  3.84it/s]\n",
            "                 Class     Images  Instances      Box(P          R      mAP50  mAP50-95): 100%|██████████| 32/32 [00:07<00:00,  4.11it/s]\n"
          ]
        },
        {
          "output_type": "stream",
          "name": "stdout",
          "text": [
            "                   all       1008        998      0.459      0.515      0.503      0.402\n",
            "\n",
            "      Epoch    GPU_mem   box_loss   cls_loss   dfl_loss  Instances       Size\n"
          ]
        },
        {
          "output_type": "stream",
          "name": "stderr",
          "text": [
            "     21/100      4.44G     0.9482      2.128      1.287         20        640: 100%|██████████| 506/506 [02:11<00:00,  3.86it/s]\n",
            "                 Class     Images  Instances      Box(P          R      mAP50  mAP50-95): 100%|██████████| 32/32 [00:07<00:00,  4.27it/s]\n"
          ]
        },
        {
          "output_type": "stream",
          "name": "stdout",
          "text": [
            "                   all       1008        998      0.457      0.578      0.566      0.454\n",
            "\n",
            "      Epoch    GPU_mem   box_loss   cls_loss   dfl_loss  Instances       Size\n"
          ]
        },
        {
          "output_type": "stream",
          "name": "stderr",
          "text": [
            "     22/100      4.43G     0.9454       2.11      1.285         23        640: 100%|██████████| 506/506 [02:10<00:00,  3.87it/s]\n",
            "                 Class     Images  Instances      Box(P          R      mAP50  mAP50-95): 100%|██████████| 32/32 [00:07<00:00,  4.48it/s]\n"
          ]
        },
        {
          "output_type": "stream",
          "name": "stdout",
          "text": [
            "                   all       1008        998       0.57      0.459      0.523      0.421\n",
            "\n",
            "      Epoch    GPU_mem   box_loss   cls_loss   dfl_loss  Instances       Size\n"
          ]
        },
        {
          "output_type": "stream",
          "name": "stderr",
          "text": [
            "     23/100      4.44G     0.9439      2.098      1.284         20        640: 100%|██████████| 506/506 [02:09<00:00,  3.91it/s]\n",
            "                 Class     Images  Instances      Box(P          R      mAP50  mAP50-95): 100%|██████████| 32/32 [00:07<00:00,  4.47it/s]\n"
          ]
        },
        {
          "output_type": "stream",
          "name": "stdout",
          "text": [
            "                   all       1008        998      0.406      0.487      0.454      0.342\n",
            "\n",
            "      Epoch    GPU_mem   box_loss   cls_loss   dfl_loss  Instances       Size\n"
          ]
        },
        {
          "output_type": "stream",
          "name": "stderr",
          "text": [
            "     24/100      4.43G      0.939      2.052      1.279         19        640: 100%|██████████| 506/506 [02:11<00:00,  3.85it/s]\n",
            "                 Class     Images  Instances      Box(P          R      mAP50  mAP50-95): 100%|██████████| 32/32 [00:07<00:00,  4.20it/s]\n"
          ]
        },
        {
          "output_type": "stream",
          "name": "stdout",
          "text": [
            "                   all       1008        998      0.462      0.557      0.519        0.4\n",
            "\n",
            "      Epoch    GPU_mem   box_loss   cls_loss   dfl_loss  Instances       Size\n"
          ]
        },
        {
          "output_type": "stream",
          "name": "stderr",
          "text": [
            "     25/100      4.44G     0.9275      2.044      1.278         19        640: 100%|██████████| 506/506 [02:10<00:00,  3.87it/s]\n",
            "                 Class     Images  Instances      Box(P          R      mAP50  mAP50-95): 100%|██████████| 32/32 [00:07<00:00,  4.28it/s]\n"
          ]
        },
        {
          "output_type": "stream",
          "name": "stdout",
          "text": [
            "                   all       1008        998      0.326      0.292      0.293      0.177\n",
            "\n",
            "      Epoch    GPU_mem   box_loss   cls_loss   dfl_loss  Instances       Size\n"
          ]
        },
        {
          "output_type": "stream",
          "name": "stderr",
          "text": [
            "     26/100      4.43G     0.9358       2.04       1.28         21        640: 100%|██████████| 506/506 [02:11<00:00,  3.86it/s]\n",
            "                 Class     Images  Instances      Box(P          R      mAP50  mAP50-95): 100%|██████████| 32/32 [00:06<00:00,  4.77it/s]\n"
          ]
        },
        {
          "output_type": "stream",
          "name": "stdout",
          "text": [
            "                   all       1008        998      0.505      0.585      0.588      0.476\n",
            "\n",
            "      Epoch    GPU_mem   box_loss   cls_loss   dfl_loss  Instances       Size\n"
          ]
        },
        {
          "output_type": "stream",
          "name": "stderr",
          "text": [
            "     27/100      4.44G     0.9341      2.011      1.278         24        640: 100%|██████████| 506/506 [02:11<00:00,  3.85it/s]\n",
            "                 Class     Images  Instances      Box(P          R      mAP50  mAP50-95): 100%|██████████| 32/32 [00:07<00:00,  4.45it/s]\n"
          ]
        },
        {
          "output_type": "stream",
          "name": "stdout",
          "text": [
            "                   all       1008        998      0.508      0.591      0.593      0.482\n",
            "\n",
            "      Epoch    GPU_mem   box_loss   cls_loss   dfl_loss  Instances       Size\n"
          ]
        },
        {
          "output_type": "stream",
          "name": "stderr",
          "text": [
            "     28/100      4.43G     0.9272      1.995      1.271         19        640: 100%|██████████| 506/506 [02:10<00:00,  3.87it/s]\n",
            "                 Class     Images  Instances      Box(P          R      mAP50  mAP50-95): 100%|██████████| 32/32 [00:07<00:00,  4.16it/s]\n"
          ]
        },
        {
          "output_type": "stream",
          "name": "stdout",
          "text": [
            "                   all       1008        998      0.501      0.487      0.505      0.382\n",
            "\n",
            "      Epoch    GPU_mem   box_loss   cls_loss   dfl_loss  Instances       Size\n"
          ]
        },
        {
          "output_type": "stream",
          "name": "stderr",
          "text": [
            "     29/100      4.44G     0.9282      1.984      1.276         17        640: 100%|██████████| 506/506 [02:11<00:00,  3.86it/s]\n",
            "                 Class     Images  Instances      Box(P          R      mAP50  mAP50-95): 100%|██████████| 32/32 [00:07<00:00,  4.12it/s]\n"
          ]
        },
        {
          "output_type": "stream",
          "name": "stdout",
          "text": [
            "                   all       1008        998      0.453      0.609      0.567      0.445\n",
            "\n",
            "      Epoch    GPU_mem   box_loss   cls_loss   dfl_loss  Instances       Size\n"
          ]
        },
        {
          "output_type": "stream",
          "name": "stderr",
          "text": [
            "     30/100      4.43G      0.922      1.962      1.275         16        640: 100%|██████████| 506/506 [02:10<00:00,  3.86it/s]\n",
            "                 Class     Images  Instances      Box(P          R      mAP50  mAP50-95): 100%|██████████| 32/32 [00:06<00:00,  4.64it/s]\n"
          ]
        },
        {
          "output_type": "stream",
          "name": "stdout",
          "text": [
            "                   all       1008        998      0.443      0.524      0.501      0.373\n",
            "\n",
            "      Epoch    GPU_mem   box_loss   cls_loss   dfl_loss  Instances       Size\n"
          ]
        },
        {
          "output_type": "stream",
          "name": "stderr",
          "text": [
            "     31/100      4.44G     0.9179      1.946      1.269         21        640: 100%|██████████| 506/506 [02:11<00:00,  3.84it/s]\n",
            "                 Class     Images  Instances      Box(P          R      mAP50  mAP50-95): 100%|██████████| 32/32 [00:06<00:00,  4.66it/s]\n"
          ]
        },
        {
          "output_type": "stream",
          "name": "stdout",
          "text": [
            "                   all       1008        998      0.475      0.513       0.53      0.413\n",
            "\n",
            "      Epoch    GPU_mem   box_loss   cls_loss   dfl_loss  Instances       Size\n"
          ]
        },
        {
          "output_type": "stream",
          "name": "stderr",
          "text": [
            "     32/100      4.43G     0.9145       1.92       1.27         20        640: 100%|██████████| 506/506 [02:11<00:00,  3.84it/s]\n",
            "                 Class     Images  Instances      Box(P          R      mAP50  mAP50-95): 100%|██████████| 32/32 [00:07<00:00,  4.19it/s]\n"
          ]
        },
        {
          "output_type": "stream",
          "name": "stdout",
          "text": [
            "                   all       1008        998      0.518      0.624      0.609      0.492\n",
            "\n",
            "      Epoch    GPU_mem   box_loss   cls_loss   dfl_loss  Instances       Size\n"
          ]
        },
        {
          "output_type": "stream",
          "name": "stderr",
          "text": [
            "     33/100      4.44G      0.908      1.904       1.26         23        640: 100%|██████████| 506/506 [02:12<00:00,  3.83it/s]\n",
            "                 Class     Images  Instances      Box(P          R      mAP50  mAP50-95): 100%|██████████| 32/32 [00:07<00:00,  4.12it/s]\n"
          ]
        },
        {
          "output_type": "stream",
          "name": "stdout",
          "text": [
            "                   all       1008        998      0.551      0.616      0.641      0.519\n",
            "\n",
            "      Epoch    GPU_mem   box_loss   cls_loss   dfl_loss  Instances       Size\n"
          ]
        },
        {
          "output_type": "stream",
          "name": "stderr",
          "text": [
            "     34/100      4.43G     0.9127      1.902      1.265         22        640: 100%|██████████| 506/506 [02:11<00:00,  3.85it/s]\n",
            "                 Class     Images  Instances      Box(P          R      mAP50  mAP50-95): 100%|██████████| 32/32 [00:07<00:00,  4.19it/s]\n"
          ]
        },
        {
          "output_type": "stream",
          "name": "stdout",
          "text": [
            "                   all       1008        998      0.473      0.616      0.602      0.482\n",
            "\n",
            "      Epoch    GPU_mem   box_loss   cls_loss   dfl_loss  Instances       Size\n"
          ]
        },
        {
          "output_type": "stream",
          "name": "stderr",
          "text": [
            "     35/100      4.44G     0.9033      1.877       1.26         22        640: 100%|██████████| 506/506 [02:11<00:00,  3.84it/s]\n",
            "                 Class     Images  Instances      Box(P          R      mAP50  mAP50-95): 100%|██████████| 32/32 [00:06<00:00,  4.66it/s]\n"
          ]
        },
        {
          "output_type": "stream",
          "name": "stdout",
          "text": [
            "                   all       1008        998      0.554      0.632      0.662      0.537\n",
            "\n",
            "      Epoch    GPU_mem   box_loss   cls_loss   dfl_loss  Instances       Size\n"
          ]
        },
        {
          "output_type": "stream",
          "name": "stderr",
          "text": [
            "     36/100      4.44G     0.9007      1.848      1.257         16        640: 100%|██████████| 506/506 [02:11<00:00,  3.84it/s]\n",
            "                 Class     Images  Instances      Box(P          R      mAP50  mAP50-95): 100%|██████████| 32/32 [00:06<00:00,  4.67it/s]\n"
          ]
        },
        {
          "output_type": "stream",
          "name": "stdout",
          "text": [
            "                   all       1008        998      0.554      0.579      0.625      0.507\n",
            "\n",
            "      Epoch    GPU_mem   box_loss   cls_loss   dfl_loss  Instances       Size\n"
          ]
        },
        {
          "output_type": "stream",
          "name": "stderr",
          "text": [
            "     37/100      4.44G      0.902      1.855      1.258         19        640: 100%|██████████| 506/506 [02:10<00:00,  3.89it/s]\n",
            "                 Class     Images  Instances      Box(P          R      mAP50  mAP50-95): 100%|██████████| 32/32 [00:07<00:00,  4.13it/s]\n"
          ]
        },
        {
          "output_type": "stream",
          "name": "stdout",
          "text": [
            "                   all       1008        998      0.484      0.578      0.587      0.455\n",
            "\n",
            "      Epoch    GPU_mem   box_loss   cls_loss   dfl_loss  Instances       Size\n"
          ]
        },
        {
          "output_type": "stream",
          "name": "stderr",
          "text": [
            "     38/100      4.43G     0.9027      1.847      1.257         16        640: 100%|██████████| 506/506 [02:11<00:00,  3.86it/s]\n",
            "                 Class     Images  Instances      Box(P          R      mAP50  mAP50-95): 100%|██████████| 32/32 [00:07<00:00,  4.24it/s]\n"
          ]
        },
        {
          "output_type": "stream",
          "name": "stdout",
          "text": [
            "                   all       1008        998       0.58      0.622       0.66      0.537\n",
            "\n",
            "      Epoch    GPU_mem   box_loss   cls_loss   dfl_loss  Instances       Size\n"
          ]
        },
        {
          "output_type": "stream",
          "name": "stderr",
          "text": [
            "     39/100      4.44G     0.9024      1.825      1.261         18        640: 100%|██████████| 506/506 [02:11<00:00,  3.85it/s]\n",
            "                 Class     Images  Instances      Box(P          R      mAP50  mAP50-95): 100%|██████████| 32/32 [00:06<00:00,  4.67it/s]\n"
          ]
        },
        {
          "output_type": "stream",
          "name": "stdout",
          "text": [
            "                   all       1008        998      0.578      0.601       0.64      0.511\n",
            "\n",
            "      Epoch    GPU_mem   box_loss   cls_loss   dfl_loss  Instances       Size\n"
          ]
        },
        {
          "output_type": "stream",
          "name": "stderr",
          "text": [
            "     40/100      4.43G     0.8919      1.804      1.245         23        640: 100%|██████████| 506/506 [02:12<00:00,  3.81it/s]\n",
            "                 Class     Images  Instances      Box(P          R      mAP50  mAP50-95): 100%|██████████| 32/32 [00:06<00:00,  4.69it/s]\n"
          ]
        },
        {
          "output_type": "stream",
          "name": "stdout",
          "text": [
            "                   all       1008        998      0.555      0.586      0.623      0.492\n",
            "\n",
            "      Epoch    GPU_mem   box_loss   cls_loss   dfl_loss  Instances       Size\n"
          ]
        },
        {
          "output_type": "stream",
          "name": "stderr",
          "text": [
            "     41/100      4.44G     0.8949      1.792      1.254         18        640: 100%|██████████| 506/506 [02:11<00:00,  3.85it/s]\n",
            "                 Class     Images  Instances      Box(P          R      mAP50  mAP50-95): 100%|██████████| 32/32 [00:07<00:00,  4.23it/s]\n"
          ]
        },
        {
          "output_type": "stream",
          "name": "stdout",
          "text": [
            "                   all       1008        998      0.614      0.632      0.677      0.555\n",
            "\n",
            "      Epoch    GPU_mem   box_loss   cls_loss   dfl_loss  Instances       Size\n"
          ]
        },
        {
          "output_type": "stream",
          "name": "stderr",
          "text": [
            "     42/100      4.43G     0.8968      1.784      1.252         20        640: 100%|██████████| 506/506 [02:11<00:00,  3.85it/s]\n",
            "                 Class     Images  Instances      Box(P          R      mAP50  mAP50-95): 100%|██████████| 32/32 [00:07<00:00,  4.18it/s]\n"
          ]
        },
        {
          "output_type": "stream",
          "name": "stdout",
          "text": [
            "                   all       1008        998      0.535      0.578      0.603       0.47\n",
            "\n",
            "      Epoch    GPU_mem   box_loss   cls_loss   dfl_loss  Instances       Size\n"
          ]
        },
        {
          "output_type": "stream",
          "name": "stderr",
          "text": [
            "     43/100      4.44G     0.8843      1.781      1.247         24        640: 100%|██████████| 506/506 [02:10<00:00,  3.87it/s]\n",
            "                 Class     Images  Instances      Box(P          R      mAP50  mAP50-95): 100%|██████████| 32/32 [00:07<00:00,  4.57it/s]\n"
          ]
        },
        {
          "output_type": "stream",
          "name": "stdout",
          "text": [
            "                   all       1008        998      0.569      0.586      0.635        0.5\n",
            "\n",
            "      Epoch    GPU_mem   box_loss   cls_loss   dfl_loss  Instances       Size\n"
          ]
        },
        {
          "output_type": "stream",
          "name": "stderr",
          "text": [
            "     44/100      4.43G     0.8891      1.748      1.248         22        640: 100%|██████████| 506/506 [02:11<00:00,  3.84it/s]\n",
            "                 Class     Images  Instances      Box(P          R      mAP50  mAP50-95): 100%|██████████| 32/32 [00:06<00:00,  4.68it/s]\n"
          ]
        },
        {
          "output_type": "stream",
          "name": "stdout",
          "text": [
            "                   all       1008        998      0.552      0.676      0.692      0.559\n",
            "\n",
            "      Epoch    GPU_mem   box_loss   cls_loss   dfl_loss  Instances       Size\n"
          ]
        },
        {
          "output_type": "stream",
          "name": "stderr",
          "text": [
            "     45/100      4.44G     0.8806      1.729      1.243         17        640: 100%|██████████| 506/506 [02:11<00:00,  3.85it/s]\n",
            "                 Class     Images  Instances      Box(P          R      mAP50  mAP50-95): 100%|██████████| 32/32 [00:07<00:00,  4.16it/s]\n"
          ]
        },
        {
          "output_type": "stream",
          "name": "stdout",
          "text": [
            "                   all       1008        998      0.579      0.706      0.706      0.581\n",
            "\n",
            "      Epoch    GPU_mem   box_loss   cls_loss   dfl_loss  Instances       Size\n"
          ]
        },
        {
          "output_type": "stream",
          "name": "stderr",
          "text": [
            "     46/100      4.43G     0.8792       1.72      1.244         23        640: 100%|██████████| 506/506 [02:13<00:00,  3.78it/s]\n",
            "                 Class     Images  Instances      Box(P          R      mAP50  mAP50-95): 100%|██████████| 32/32 [00:07<00:00,  4.18it/s]\n"
          ]
        },
        {
          "output_type": "stream",
          "name": "stdout",
          "text": [
            "                   all       1008        998       0.59      0.623      0.659      0.523\n",
            "\n",
            "      Epoch    GPU_mem   box_loss   cls_loss   dfl_loss  Instances       Size\n"
          ]
        },
        {
          "output_type": "stream",
          "name": "stderr",
          "text": [
            "     47/100      4.44G     0.8786      1.724      1.245         24        640: 100%|██████████| 506/506 [02:12<00:00,  3.82it/s]\n",
            "                 Class     Images  Instances      Box(P          R      mAP50  mAP50-95): 100%|██████████| 32/32 [00:07<00:00,  4.23it/s]\n"
          ]
        },
        {
          "output_type": "stream",
          "name": "stdout",
          "text": [
            "                   all       1008        998      0.554      0.613      0.635      0.492\n",
            "\n",
            "      Epoch    GPU_mem   box_loss   cls_loss   dfl_loss  Instances       Size\n"
          ]
        },
        {
          "output_type": "stream",
          "name": "stderr",
          "text": [
            "     48/100      4.43G     0.8788      1.715      1.246         23        640: 100%|██████████| 506/506 [02:11<00:00,  3.83it/s]\n",
            "                 Class     Images  Instances      Box(P          R      mAP50  mAP50-95): 100%|██████████| 32/32 [00:06<00:00,  4.61it/s]\n"
          ]
        },
        {
          "output_type": "stream",
          "name": "stdout",
          "text": [
            "                   all       1008        998      0.643      0.647        0.7      0.571\n",
            "\n",
            "      Epoch    GPU_mem   box_loss   cls_loss   dfl_loss  Instances       Size\n"
          ]
        },
        {
          "output_type": "stream",
          "name": "stderr",
          "text": [
            "     49/100      4.44G     0.8731      1.688       1.24         21        640: 100%|██████████| 506/506 [02:12<00:00,  3.83it/s]\n",
            "                 Class     Images  Instances      Box(P          R      mAP50  mAP50-95): 100%|██████████| 32/32 [00:06<00:00,  4.72it/s]\n"
          ]
        },
        {
          "output_type": "stream",
          "name": "stdout",
          "text": [
            "                   all       1008        998      0.538      0.608      0.641      0.488\n",
            "\n",
            "      Epoch    GPU_mem   box_loss   cls_loss   dfl_loss  Instances       Size\n"
          ]
        },
        {
          "output_type": "stream",
          "name": "stderr",
          "text": [
            "     50/100      4.43G     0.8812      1.688      1.244         22        640: 100%|██████████| 506/506 [02:11<00:00,  3.85it/s]\n",
            "                 Class     Images  Instances      Box(P          R      mAP50  mAP50-95): 100%|██████████| 32/32 [00:07<00:00,  4.18it/s]\n"
          ]
        },
        {
          "output_type": "stream",
          "name": "stdout",
          "text": [
            "                   all       1008        998      0.587      0.714      0.714      0.591\n",
            "\n",
            "      Epoch    GPU_mem   box_loss   cls_loss   dfl_loss  Instances       Size\n"
          ]
        },
        {
          "output_type": "stream",
          "name": "stderr",
          "text": [
            "     51/100      4.44G     0.8702      1.672       1.24         22        640: 100%|██████████| 506/506 [02:11<00:00,  3.85it/s]\n",
            "                 Class     Images  Instances      Box(P          R      mAP50  mAP50-95): 100%|██████████| 32/32 [00:07<00:00,  4.12it/s]\n"
          ]
        },
        {
          "output_type": "stream",
          "name": "stdout",
          "text": [
            "                   all       1008        998       0.57      0.643      0.684      0.547\n",
            "\n",
            "      Epoch    GPU_mem   box_loss   cls_loss   dfl_loss  Instances       Size\n"
          ]
        },
        {
          "output_type": "stream",
          "name": "stderr",
          "text": [
            "     52/100      4.43G     0.8759      1.667      1.242         21        640: 100%|██████████| 506/506 [02:13<00:00,  3.80it/s]\n",
            "                 Class     Images  Instances      Box(P          R      mAP50  mAP50-95): 100%|██████████| 32/32 [00:07<00:00,  4.24it/s]\n"
          ]
        },
        {
          "output_type": "stream",
          "name": "stdout",
          "text": [
            "                   all       1008        998      0.646      0.665      0.719      0.587\n",
            "\n",
            "      Epoch    GPU_mem   box_loss   cls_loss   dfl_loss  Instances       Size\n"
          ]
        },
        {
          "output_type": "stream",
          "name": "stderr",
          "text": [
            "     53/100      4.44G     0.8753       1.66      1.239         19        640: 100%|██████████| 506/506 [02:12<00:00,  3.81it/s]\n",
            "                 Class     Images  Instances      Box(P          R      mAP50  mAP50-95): 100%|██████████| 32/32 [00:07<00:00,  4.53it/s]\n"
          ]
        },
        {
          "output_type": "stream",
          "name": "stdout",
          "text": [
            "                   all       1008        998      0.662      0.607      0.696       0.56\n",
            "\n",
            "      Epoch    GPU_mem   box_loss   cls_loss   dfl_loss  Instances       Size\n"
          ]
        },
        {
          "output_type": "stream",
          "name": "stderr",
          "text": [
            "     54/100      4.43G     0.8651      1.634      1.234         22        640: 100%|██████████| 506/506 [02:12<00:00,  3.82it/s]\n",
            "                 Class     Images  Instances      Box(P          R      mAP50  mAP50-95): 100%|██████████| 32/32 [00:06<00:00,  4.63it/s]\n"
          ]
        },
        {
          "output_type": "stream",
          "name": "stdout",
          "text": [
            "                   all       1008        998      0.571      0.676      0.684      0.549\n",
            "\n",
            "      Epoch    GPU_mem   box_loss   cls_loss   dfl_loss  Instances       Size\n"
          ]
        },
        {
          "output_type": "stream",
          "name": "stderr",
          "text": [
            "     55/100      4.44G     0.8656      1.625      1.241         18        640: 100%|██████████| 506/506 [02:12<00:00,  3.81it/s]\n",
            "                 Class     Images  Instances      Box(P          R      mAP50  mAP50-95): 100%|██████████| 32/32 [00:07<00:00,  4.42it/s]\n"
          ]
        },
        {
          "output_type": "stream",
          "name": "stdout",
          "text": [
            "                   all       1008        998      0.627      0.658      0.701      0.564\n",
            "\n",
            "      Epoch    GPU_mem   box_loss   cls_loss   dfl_loss  Instances       Size\n"
          ]
        },
        {
          "output_type": "stream",
          "name": "stderr",
          "text": [
            "     56/100      4.45G     0.8625      1.621      1.238         21        640: 100%|██████████| 506/506 [02:11<00:00,  3.85it/s]\n",
            "                 Class     Images  Instances      Box(P          R      mAP50  mAP50-95): 100%|██████████| 32/32 [00:07<00:00,  4.12it/s]\n"
          ]
        },
        {
          "output_type": "stream",
          "name": "stdout",
          "text": [
            "                   all       1008        998      0.599      0.636       0.68       0.53\n",
            "\n",
            "      Epoch    GPU_mem   box_loss   cls_loss   dfl_loss  Instances       Size\n"
          ]
        },
        {
          "output_type": "stream",
          "name": "stderr",
          "text": [
            "     57/100      4.44G     0.8619      1.614      1.232         20        640: 100%|██████████| 506/506 [02:11<00:00,  3.84it/s]\n",
            "                 Class     Images  Instances      Box(P          R      mAP50  mAP50-95): 100%|██████████| 32/32 [00:07<00:00,  4.19it/s]\n"
          ]
        },
        {
          "output_type": "stream",
          "name": "stdout",
          "text": [
            "                   all       1008        998      0.618      0.631      0.674      0.532\n",
            "\n",
            "      Epoch    GPU_mem   box_loss   cls_loss   dfl_loss  Instances       Size\n"
          ]
        },
        {
          "output_type": "stream",
          "name": "stderr",
          "text": [
            "     58/100      4.43G     0.8624        1.6      1.235         18        640: 100%|██████████| 506/506 [02:11<00:00,  3.85it/s]\n",
            "                 Class     Images  Instances      Box(P          R      mAP50  mAP50-95): 100%|██████████| 32/32 [00:07<00:00,  4.55it/s]\n"
          ]
        },
        {
          "output_type": "stream",
          "name": "stdout",
          "text": [
            "                   all       1008        998       0.63       0.66      0.707      0.571\n",
            "\n",
            "      Epoch    GPU_mem   box_loss   cls_loss   dfl_loss  Instances       Size\n"
          ]
        },
        {
          "output_type": "stream",
          "name": "stderr",
          "text": [
            "     59/100      4.44G     0.8608      1.585      1.229         25        640: 100%|██████████| 506/506 [02:11<00:00,  3.85it/s]\n",
            "                 Class     Images  Instances      Box(P          R      mAP50  mAP50-95): 100%|██████████| 32/32 [00:06<00:00,  4.67it/s]\n"
          ]
        },
        {
          "output_type": "stream",
          "name": "stdout",
          "text": [
            "                   all       1008        998       0.66      0.694      0.736      0.602\n",
            "\n",
            "      Epoch    GPU_mem   box_loss   cls_loss   dfl_loss  Instances       Size\n"
          ]
        },
        {
          "output_type": "stream",
          "name": "stderr",
          "text": [
            "     60/100      4.43G     0.8534      1.566      1.226         21        640: 100%|██████████| 506/506 [02:12<00:00,  3.83it/s]\n",
            "                 Class     Images  Instances      Box(P          R      mAP50  mAP50-95): 100%|██████████| 32/32 [00:07<00:00,  4.28it/s]\n"
          ]
        },
        {
          "output_type": "stream",
          "name": "stdout",
          "text": [
            "                   all       1008        998      0.616      0.712      0.732      0.596\n",
            "\n",
            "      Epoch    GPU_mem   box_loss   cls_loss   dfl_loss  Instances       Size\n"
          ]
        },
        {
          "output_type": "stream",
          "name": "stderr",
          "text": [
            "     61/100      4.44G     0.8578      1.558      1.231         19        640: 100%|██████████| 506/506 [02:11<00:00,  3.86it/s]\n",
            "                 Class     Images  Instances      Box(P          R      mAP50  mAP50-95): 100%|██████████| 32/32 [00:07<00:00,  4.21it/s]\n"
          ]
        },
        {
          "output_type": "stream",
          "name": "stdout",
          "text": [
            "                   all       1008        998      0.672      0.685      0.739      0.609\n",
            "\n",
            "      Epoch    GPU_mem   box_loss   cls_loss   dfl_loss  Instances       Size\n"
          ]
        },
        {
          "output_type": "stream",
          "name": "stderr",
          "text": [
            "     62/100      4.43G     0.8573      1.557       1.23         22        640: 100%|██████████| 506/506 [02:12<00:00,  3.83it/s]\n",
            "                 Class     Images  Instances      Box(P          R      mAP50  mAP50-95): 100%|██████████| 32/32 [00:07<00:00,  4.47it/s]\n"
          ]
        },
        {
          "output_type": "stream",
          "name": "stdout",
          "text": [
            "                   all       1008        998       0.66      0.683       0.73      0.597\n",
            "\n",
            "      Epoch    GPU_mem   box_loss   cls_loss   dfl_loss  Instances       Size\n"
          ]
        },
        {
          "output_type": "stream",
          "name": "stderr",
          "text": [
            "     63/100      4.44G     0.8515      1.552      1.229         19        640: 100%|██████████| 506/506 [02:11<00:00,  3.86it/s]\n",
            "                 Class     Images  Instances      Box(P          R      mAP50  mAP50-95): 100%|██████████| 32/32 [00:06<00:00,  4.80it/s]\n"
          ]
        },
        {
          "output_type": "stream",
          "name": "stdout",
          "text": [
            "                   all       1008        998      0.596      0.736      0.737      0.604\n",
            "\n",
            "      Epoch    GPU_mem   box_loss   cls_loss   dfl_loss  Instances       Size\n"
          ]
        },
        {
          "output_type": "stream",
          "name": "stderr",
          "text": [
            "     64/100      4.43G     0.8514      1.537      1.228         14        640: 100%|██████████| 506/506 [02:12<00:00,  3.83it/s]\n",
            "                 Class     Images  Instances      Box(P          R      mAP50  mAP50-95): 100%|██████████| 32/32 [00:07<00:00,  4.26it/s]\n"
          ]
        },
        {
          "output_type": "stream",
          "name": "stdout",
          "text": [
            "                   all       1008        998      0.668      0.654      0.714      0.574\n",
            "\n",
            "      Epoch    GPU_mem   box_loss   cls_loss   dfl_loss  Instances       Size\n"
          ]
        },
        {
          "output_type": "stream",
          "name": "stderr",
          "text": [
            "     65/100      4.44G     0.8478      1.539      1.227         24        640: 100%|██████████| 506/506 [02:11<00:00,  3.84it/s]\n",
            "                 Class     Images  Instances      Box(P          R      mAP50  mAP50-95): 100%|██████████| 32/32 [00:07<00:00,  4.11it/s]\n"
          ]
        },
        {
          "output_type": "stream",
          "name": "stdout",
          "text": [
            "                   all       1008        998      0.629      0.697      0.724      0.589\n",
            "\n",
            "      Epoch    GPU_mem   box_loss   cls_loss   dfl_loss  Instances       Size\n"
          ]
        },
        {
          "output_type": "stream",
          "name": "stderr",
          "text": [
            "     66/100      4.43G     0.8451      1.536      1.226         25        640: 100%|██████████| 506/506 [02:11<00:00,  3.84it/s]\n",
            "                 Class     Images  Instances      Box(P          R      mAP50  mAP50-95): 100%|██████████| 32/32 [00:07<00:00,  4.14it/s]\n"
          ]
        },
        {
          "output_type": "stream",
          "name": "stdout",
          "text": [
            "                   all       1008        998      0.667      0.711      0.753      0.619\n",
            "\n",
            "      Epoch    GPU_mem   box_loss   cls_loss   dfl_loss  Instances       Size\n"
          ]
        },
        {
          "output_type": "stream",
          "name": "stderr",
          "text": [
            "     67/100      4.44G     0.8479      1.504      1.225         17        640: 100%|██████████| 506/506 [02:12<00:00,  3.83it/s]\n",
            "                 Class     Images  Instances      Box(P          R      mAP50  mAP50-95): 100%|██████████| 32/32 [00:07<00:00,  4.27it/s]\n"
          ]
        },
        {
          "output_type": "stream",
          "name": "stdout",
          "text": [
            "                   all       1008        998      0.646      0.734      0.751      0.619\n",
            "\n",
            "      Epoch    GPU_mem   box_loss   cls_loss   dfl_loss  Instances       Size\n"
          ]
        },
        {
          "output_type": "stream",
          "name": "stderr",
          "text": [
            "     68/100      4.43G      0.841      1.497      1.217         19        640: 100%|██████████| 506/506 [02:11<00:00,  3.84it/s]\n",
            "                 Class     Images  Instances      Box(P          R      mAP50  mAP50-95): 100%|██████████| 32/32 [00:06<00:00,  4.69it/s]\n"
          ]
        },
        {
          "output_type": "stream",
          "name": "stdout",
          "text": [
            "                   all       1008        998      0.657      0.725      0.753       0.62\n",
            "\n",
            "      Epoch    GPU_mem   box_loss   cls_loss   dfl_loss  Instances       Size\n"
          ]
        },
        {
          "output_type": "stream",
          "name": "stderr",
          "text": [
            "     69/100      4.44G      0.841      1.499       1.22         23        640: 100%|██████████| 506/506 [02:12<00:00,  3.81it/s]\n",
            "                 Class     Images  Instances      Box(P          R      mAP50  mAP50-95): 100%|██████████| 32/32 [00:06<00:00,  4.63it/s]\n"
          ]
        },
        {
          "output_type": "stream",
          "name": "stdout",
          "text": [
            "                   all       1008        998      0.654      0.727      0.746      0.614\n",
            "\n",
            "      Epoch    GPU_mem   box_loss   cls_loss   dfl_loss  Instances       Size\n"
          ]
        },
        {
          "output_type": "stream",
          "name": "stderr",
          "text": [
            "     70/100      4.43G     0.8397       1.48      1.221         25        640: 100%|██████████| 506/506 [02:11<00:00,  3.85it/s]\n",
            "                 Class     Images  Instances      Box(P          R      mAP50  mAP50-95): 100%|██████████| 32/32 [00:07<00:00,  4.17it/s]\n"
          ]
        },
        {
          "output_type": "stream",
          "name": "stdout",
          "text": [
            "                   all       1008        998      0.678      0.724      0.756      0.624\n",
            "\n",
            "      Epoch    GPU_mem   box_loss   cls_loss   dfl_loss  Instances       Size\n"
          ]
        },
        {
          "output_type": "stream",
          "name": "stderr",
          "text": [
            "     71/100      4.44G     0.8374      1.476      1.216         16        640: 100%|██████████| 506/506 [02:11<00:00,  3.84it/s]\n",
            "                 Class     Images  Instances      Box(P          R      mAP50  mAP50-95): 100%|██████████| 32/32 [00:07<00:00,  4.22it/s]\n"
          ]
        },
        {
          "output_type": "stream",
          "name": "stdout",
          "text": [
            "                   all       1008        998      0.685      0.717      0.754      0.622\n",
            "\n",
            "      Epoch    GPU_mem   box_loss   cls_loss   dfl_loss  Instances       Size\n"
          ]
        },
        {
          "output_type": "stream",
          "name": "stderr",
          "text": [
            "     72/100      4.43G     0.8364      1.458      1.219         19        640: 100%|██████████| 506/506 [02:12<00:00,  3.83it/s]\n",
            "                 Class     Images  Instances      Box(P          R      mAP50  mAP50-95): 100%|██████████| 32/32 [00:07<00:00,  4.56it/s]\n"
          ]
        },
        {
          "output_type": "stream",
          "name": "stdout",
          "text": [
            "                   all       1008        998      0.721      0.672      0.758      0.626\n",
            "\n",
            "      Epoch    GPU_mem   box_loss   cls_loss   dfl_loss  Instances       Size\n"
          ]
        },
        {
          "output_type": "stream",
          "name": "stderr",
          "text": [
            "     73/100      4.44G     0.8328      1.451      1.216         21        640: 100%|██████████| 506/506 [02:12<00:00,  3.82it/s]\n",
            "                 Class     Images  Instances      Box(P          R      mAP50  mAP50-95): 100%|██████████| 32/32 [00:06<00:00,  4.82it/s]\n"
          ]
        },
        {
          "output_type": "stream",
          "name": "stdout",
          "text": [
            "                   all       1008        998      0.684      0.694      0.754       0.62\n",
            "\n",
            "      Epoch    GPU_mem   box_loss   cls_loss   dfl_loss  Instances       Size\n"
          ]
        },
        {
          "output_type": "stream",
          "name": "stderr",
          "text": [
            "     74/100      4.43G     0.8327      1.447      1.214         17        640: 100%|██████████| 506/506 [02:14<00:00,  3.78it/s]\n",
            "                 Class     Images  Instances      Box(P          R      mAP50  mAP50-95): 100%|██████████| 32/32 [00:07<00:00,  4.44it/s]\n"
          ]
        },
        {
          "output_type": "stream",
          "name": "stdout",
          "text": [
            "                   all       1008        998      0.659      0.713      0.751      0.617\n",
            "\n",
            "      Epoch    GPU_mem   box_loss   cls_loss   dfl_loss  Instances       Size\n"
          ]
        },
        {
          "output_type": "stream",
          "name": "stderr",
          "text": [
            "     75/100      4.58G     0.8307      1.433      1.213         23        640: 100%|██████████| 506/506 [02:12<00:00,  3.82it/s]\n",
            "                 Class     Images  Instances      Box(P          R      mAP50  mAP50-95): 100%|██████████| 32/32 [00:07<00:00,  4.21it/s]\n"
          ]
        },
        {
          "output_type": "stream",
          "name": "stdout",
          "text": [
            "                   all       1008        998      0.658        0.7      0.745      0.609\n",
            "\n",
            "      Epoch    GPU_mem   box_loss   cls_loss   dfl_loss  Instances       Size\n"
          ]
        },
        {
          "output_type": "stream",
          "name": "stderr",
          "text": [
            "     76/100      4.43G     0.8389      1.439      1.219         16        640: 100%|██████████| 506/506 [02:12<00:00,  3.82it/s]\n",
            "                 Class     Images  Instances      Box(P          R      mAP50  mAP50-95): 100%|██████████| 32/32 [00:07<00:00,  4.18it/s]\n"
          ]
        },
        {
          "output_type": "stream",
          "name": "stdout",
          "text": [
            "                   all       1008        998      0.684      0.709      0.764       0.63\n",
            "\n",
            "      Epoch    GPU_mem   box_loss   cls_loss   dfl_loss  Instances       Size\n"
          ]
        },
        {
          "output_type": "stream",
          "name": "stderr",
          "text": [
            "     77/100      4.44G      0.831      1.434      1.214         22        640: 100%|██████████| 506/506 [02:12<00:00,  3.82it/s]\n",
            "                 Class     Images  Instances      Box(P          R      mAP50  mAP50-95): 100%|██████████| 32/32 [00:07<00:00,  4.23it/s]\n"
          ]
        },
        {
          "output_type": "stream",
          "name": "stdout",
          "text": [
            "                   all       1008        998      0.651      0.739      0.762      0.624\n",
            "\n",
            "      Epoch    GPU_mem   box_loss   cls_loss   dfl_loss  Instances       Size\n"
          ]
        },
        {
          "output_type": "stream",
          "name": "stderr",
          "text": [
            "     78/100      4.43G     0.8273      1.414      1.212         21        640: 100%|██████████| 506/506 [02:12<00:00,  3.81it/s]\n",
            "                 Class     Images  Instances      Box(P          R      mAP50  mAP50-95): 100%|██████████| 32/32 [00:07<00:00,  4.55it/s]\n"
          ]
        },
        {
          "output_type": "stream",
          "name": "stdout",
          "text": [
            "                   all       1008        998      0.666      0.734      0.763      0.629\n",
            "\n",
            "      Epoch    GPU_mem   box_loss   cls_loss   dfl_loss  Instances       Size\n"
          ]
        },
        {
          "output_type": "stream",
          "name": "stderr",
          "text": [
            "     79/100      4.44G     0.8247      1.408      1.211         18        640: 100%|██████████| 506/506 [02:11<00:00,  3.83it/s]\n",
            "                 Class     Images  Instances      Box(P          R      mAP50  mAP50-95): 100%|██████████| 32/32 [00:06<00:00,  4.65it/s]\n"
          ]
        },
        {
          "output_type": "stream",
          "name": "stdout",
          "text": [
            "                   all       1008        998      0.679      0.718       0.76      0.628\n",
            "\n",
            "      Epoch    GPU_mem   box_loss   cls_loss   dfl_loss  Instances       Size\n"
          ]
        },
        {
          "output_type": "stream",
          "name": "stderr",
          "text": [
            "     80/100      4.43G      0.826      1.406      1.214         20        640: 100%|██████████| 506/506 [02:12<00:00,  3.81it/s]\n",
            "                 Class     Images  Instances      Box(P          R      mAP50  mAP50-95): 100%|██████████| 32/32 [00:07<00:00,  4.21it/s]\n"
          ]
        },
        {
          "output_type": "stream",
          "name": "stdout",
          "text": [
            "                   all       1008        998      0.657      0.727      0.757      0.627\n",
            "\n",
            "      Epoch    GPU_mem   box_loss   cls_loss   dfl_loss  Instances       Size\n"
          ]
        },
        {
          "output_type": "stream",
          "name": "stderr",
          "text": [
            "     81/100      4.44G     0.8269      1.405      1.209         17        640: 100%|██████████| 506/506 [02:12<00:00,  3.82it/s]\n",
            "                 Class     Images  Instances      Box(P          R      mAP50  mAP50-95): 100%|██████████| 32/32 [00:07<00:00,  4.19it/s]\n"
          ]
        },
        {
          "output_type": "stream",
          "name": "stdout",
          "text": [
            "                   all       1008        998      0.656      0.737      0.761      0.626\n",
            "\n",
            "      Epoch    GPU_mem   box_loss   cls_loss   dfl_loss  Instances       Size\n"
          ]
        },
        {
          "output_type": "stream",
          "name": "stderr",
          "text": [
            "     82/100      4.43G      0.816       1.38      1.207         24        640: 100%|██████████| 506/506 [02:12<00:00,  3.82it/s]\n",
            "                 Class     Images  Instances      Box(P          R      mAP50  mAP50-95): 100%|██████████| 32/32 [00:07<00:00,  4.14it/s]\n"
          ]
        },
        {
          "output_type": "stream",
          "name": "stdout",
          "text": [
            "                   all       1008        998      0.671      0.734      0.764      0.632\n",
            "\n",
            "      Epoch    GPU_mem   box_loss   cls_loss   dfl_loss  Instances       Size\n"
          ]
        },
        {
          "output_type": "stream",
          "name": "stderr",
          "text": [
            "     83/100      4.44G     0.8181      1.369      1.207         21        640: 100%|██████████| 506/506 [02:14<00:00,  3.77it/s]\n",
            "                 Class     Images  Instances      Box(P          R      mAP50  mAP50-95): 100%|██████████| 32/32 [00:07<00:00,  4.14it/s]\n"
          ]
        },
        {
          "output_type": "stream",
          "name": "stdout",
          "text": [
            "                   all       1008        998      0.665      0.724      0.761      0.626\n",
            "\n",
            "      Epoch    GPU_mem   box_loss   cls_loss   dfl_loss  Instances       Size\n"
          ]
        },
        {
          "output_type": "stream",
          "name": "stderr",
          "text": [
            "     84/100      4.43G     0.8158      1.371      1.205         22        640: 100%|██████████| 506/506 [02:11<00:00,  3.83it/s]\n",
            "                 Class     Images  Instances      Box(P          R      mAP50  mAP50-95): 100%|██████████| 32/32 [00:06<00:00,  4.78it/s]\n"
          ]
        },
        {
          "output_type": "stream",
          "name": "stdout",
          "text": [
            "                   all       1008        998      0.675      0.728       0.77      0.635\n",
            "\n",
            "      Epoch    GPU_mem   box_loss   cls_loss   dfl_loss  Instances       Size\n"
          ]
        },
        {
          "output_type": "stream",
          "name": "stderr",
          "text": [
            "     85/100      4.44G     0.8171      1.354      1.209         17        640: 100%|██████████| 506/506 [02:12<00:00,  3.81it/s]\n",
            "                 Class     Images  Instances      Box(P          R      mAP50  mAP50-95): 100%|██████████| 32/32 [00:06<00:00,  4.69it/s]\n"
          ]
        },
        {
          "output_type": "stream",
          "name": "stdout",
          "text": [
            "                   all       1008        998       0.68      0.732       0.77      0.636\n",
            "\n",
            "      Epoch    GPU_mem   box_loss   cls_loss   dfl_loss  Instances       Size\n"
          ]
        },
        {
          "output_type": "stream",
          "name": "stderr",
          "text": [
            "     86/100      4.43G     0.8124      1.349      1.201         23        640: 100%|██████████| 506/506 [02:12<00:00,  3.82it/s]\n",
            "                 Class     Images  Instances      Box(P          R      mAP50  mAP50-95): 100%|██████████| 32/32 [00:07<00:00,  4.18it/s]\n"
          ]
        },
        {
          "output_type": "stream",
          "name": "stdout",
          "text": [
            "                   all       1008        998      0.653      0.745       0.77      0.634\n",
            "\n",
            "      Epoch    GPU_mem   box_loss   cls_loss   dfl_loss  Instances       Size\n"
          ]
        },
        {
          "output_type": "stream",
          "name": "stderr",
          "text": [
            "     87/100      4.44G     0.8092      1.334      1.202         20        640: 100%|██████████| 506/506 [02:12<00:00,  3.83it/s]\n",
            "                 Class     Images  Instances      Box(P          R      mAP50  mAP50-95): 100%|██████████| 32/32 [00:07<00:00,  4.20it/s]\n"
          ]
        },
        {
          "output_type": "stream",
          "name": "stdout",
          "text": [
            "                   all       1008        998      0.661       0.74       0.77      0.633\n",
            "\n",
            "      Epoch    GPU_mem   box_loss   cls_loss   dfl_loss  Instances       Size\n"
          ]
        },
        {
          "output_type": "stream",
          "name": "stderr",
          "text": [
            "     88/100      4.43G     0.8098      1.334      1.201         20        640: 100%|██████████| 506/506 [02:11<00:00,  3.83it/s]\n",
            "                 Class     Images  Instances      Box(P          R      mAP50  mAP50-95): 100%|██████████| 32/32 [00:07<00:00,  4.30it/s]"
          ]
        },
        {
          "output_type": "stream",
          "name": "stdout",
          "text": [
            "                   all       1008        998       0.68      0.734      0.773      0.638\n"
          ]
        },
        {
          "output_type": "stream",
          "name": "stderr",
          "text": [
            "\n"
          ]
        },
        {
          "output_type": "stream",
          "name": "stdout",
          "text": [
            "\n",
            "      Epoch    GPU_mem   box_loss   cls_loss   dfl_loss  Instances       Size\n"
          ]
        },
        {
          "output_type": "stream",
          "name": "stderr",
          "text": [
            "     89/100      4.44G     0.8089      1.319      1.202         19        640: 100%|██████████| 506/506 [02:12<00:00,  3.83it/s]\n",
            "                 Class     Images  Instances      Box(P          R      mAP50  mAP50-95): 100%|██████████| 32/32 [00:06<00:00,  4.66it/s]\n"
          ]
        },
        {
          "output_type": "stream",
          "name": "stdout",
          "text": [
            "                   all       1008        998       0.69      0.731      0.772      0.639\n",
            "\n",
            "      Epoch    GPU_mem   box_loss   cls_loss   dfl_loss  Instances       Size\n"
          ]
        },
        {
          "output_type": "stream",
          "name": "stderr",
          "text": [
            "     90/100      4.45G       0.81      1.304      1.205         20        640: 100%|██████████| 506/506 [02:11<00:00,  3.85it/s]\n",
            "                 Class     Images  Instances      Box(P          R      mAP50  mAP50-95): 100%|██████████| 32/32 [00:07<00:00,  4.05it/s]\n"
          ]
        },
        {
          "output_type": "stream",
          "name": "stdout",
          "text": [
            "                   all       1008        998      0.677       0.74      0.774       0.64\n",
            "Closing dataloader mosaic\n",
            "\u001b[34m\u001b[1malbumentations: \u001b[0mBlur(p=0.01, blur_limit=(3, 7)), MedianBlur(p=0.01, blur_limit=(3, 7)), ToGray(p=0.01, method='weighted_average', num_output_channels=3), CLAHE(p=0.01, clip_limit=(1.0, 4.0), tile_grid_size=(8, 8))\n"
          ]
        },
        {
          "output_type": "stream",
          "name": "stderr",
          "text": [
            "Argument(s) 'quality_lower' are not valid for transform ImageCompression\n"
          ]
        },
        {
          "output_type": "stream",
          "name": "stdout",
          "text": [
            "\n",
            "      Epoch    GPU_mem   box_loss   cls_loss   dfl_loss  Instances       Size\n"
          ]
        },
        {
          "output_type": "stream",
          "name": "stderr",
          "text": [
            "     91/100      4.58G     0.7264     0.8311       1.26          8        640: 100%|██████████| 506/506 [02:08<00:00,  3.93it/s]\n",
            "                 Class     Images  Instances      Box(P          R      mAP50  mAP50-95): 100%|██████████| 32/32 [00:07<00:00,  4.34it/s]\n"
          ]
        },
        {
          "output_type": "stream",
          "name": "stdout",
          "text": [
            "                   all       1008        998      0.701      0.728      0.774      0.641\n",
            "\n",
            "      Epoch    GPU_mem   box_loss   cls_loss   dfl_loss  Instances       Size\n"
          ]
        },
        {
          "output_type": "stream",
          "name": "stderr",
          "text": [
            "     92/100      4.43G     0.7126     0.7931      1.252          8        640: 100%|██████████| 506/506 [02:07<00:00,  3.98it/s]\n",
            "                 Class     Images  Instances      Box(P          R      mAP50  mAP50-95): 100%|██████████| 32/32 [00:07<00:00,  4.20it/s]\n"
          ]
        },
        {
          "output_type": "stream",
          "name": "stdout",
          "text": [
            "                   all       1008        998      0.696      0.724      0.777      0.643\n",
            "\n",
            "      Epoch    GPU_mem   box_loss   cls_loss   dfl_loss  Instances       Size\n"
          ]
        },
        {
          "output_type": "stream",
          "name": "stderr",
          "text": [
            "     93/100      4.44G     0.7063     0.7783      1.245          8        640: 100%|██████████| 506/506 [02:07<00:00,  3.97it/s]\n",
            "                 Class     Images  Instances      Box(P          R      mAP50  mAP50-95): 100%|██████████| 32/32 [00:06<00:00,  4.76it/s]\n"
          ]
        },
        {
          "output_type": "stream",
          "name": "stdout",
          "text": [
            "                   all       1008        998       0.69      0.744      0.778      0.643\n",
            "\n",
            "      Epoch    GPU_mem   box_loss   cls_loss   dfl_loss  Instances       Size\n"
          ]
        },
        {
          "output_type": "stream",
          "name": "stderr",
          "text": [
            "     94/100      4.43G     0.7045     0.7572      1.235          8        640: 100%|██████████| 506/506 [02:06<00:00,  3.99it/s]\n",
            "                 Class     Images  Instances      Box(P          R      mAP50  mAP50-95): 100%|██████████| 32/32 [00:07<00:00,  4.21it/s]\n"
          ]
        },
        {
          "output_type": "stream",
          "name": "stdout",
          "text": [
            "                   all       1008        998        0.7      0.736      0.778      0.643\n",
            "\n",
            "      Epoch    GPU_mem   box_loss   cls_loss   dfl_loss  Instances       Size\n"
          ]
        },
        {
          "output_type": "stream",
          "name": "stderr",
          "text": [
            "     95/100      4.44G     0.6973     0.7522      1.236          8        640: 100%|██████████| 506/506 [02:06<00:00,  4.00it/s]\n",
            "                 Class     Images  Instances      Box(P          R      mAP50  mAP50-95): 100%|██████████| 32/32 [00:06<00:00,  4.73it/s]\n"
          ]
        },
        {
          "output_type": "stream",
          "name": "stdout",
          "text": [
            "                   all       1008        998      0.712      0.726      0.776      0.642\n",
            "\n",
            "      Epoch    GPU_mem   box_loss   cls_loss   dfl_loss  Instances       Size\n"
          ]
        },
        {
          "output_type": "stream",
          "name": "stderr",
          "text": [
            "     96/100      4.43G     0.6939     0.7422      1.233         17        640: 100%|██████████| 506/506 [02:07<00:00,  3.96it/s]\n",
            "                 Class     Images  Instances      Box(P          R      mAP50  mAP50-95): 100%|██████████| 32/32 [00:07<00:00,  4.32it/s]\n"
          ]
        },
        {
          "output_type": "stream",
          "name": "stdout",
          "text": [
            "                   all       1008        998      0.709      0.724      0.779      0.641\n",
            "\n",
            "      Epoch    GPU_mem   box_loss   cls_loss   dfl_loss  Instances       Size\n"
          ]
        },
        {
          "output_type": "stream",
          "name": "stderr",
          "text": [
            "     97/100      4.44G     0.6932     0.7271      1.226          8        640: 100%|██████████| 506/506 [02:05<00:00,  4.02it/s]\n",
            "                 Class     Images  Instances      Box(P          R      mAP50  mAP50-95): 100%|██████████| 32/32 [00:07<00:00,  4.18it/s]\n"
          ]
        },
        {
          "output_type": "stream",
          "name": "stdout",
          "text": [
            "                   all       1008        998      0.708      0.721      0.778      0.641\n",
            "\n",
            "      Epoch    GPU_mem   box_loss   cls_loss   dfl_loss  Instances       Size\n"
          ]
        },
        {
          "output_type": "stream",
          "name": "stderr",
          "text": [
            "     98/100      4.43G     0.6914     0.7203       1.23          8        640: 100%|██████████| 506/506 [02:08<00:00,  3.95it/s]\n",
            "                 Class     Images  Instances      Box(P          R      mAP50  mAP50-95): 100%|██████████| 32/32 [00:07<00:00,  4.53it/s]\n"
          ]
        },
        {
          "output_type": "stream",
          "name": "stdout",
          "text": [
            "                   all       1008        998      0.709      0.715      0.774      0.638\n",
            "\n",
            "      Epoch    GPU_mem   box_loss   cls_loss   dfl_loss  Instances       Size\n"
          ]
        },
        {
          "output_type": "stream",
          "name": "stderr",
          "text": [
            "     99/100      4.44G     0.6881     0.7082      1.229          8        640: 100%|██████████| 506/506 [02:08<00:00,  3.95it/s]\n",
            "                 Class     Images  Instances      Box(P          R      mAP50  mAP50-95): 100%|██████████| 32/32 [00:07<00:00,  4.17it/s]\n"
          ]
        },
        {
          "output_type": "stream",
          "name": "stdout",
          "text": [
            "                   all       1008        998      0.714      0.717      0.774      0.638\n",
            "\n",
            "      Epoch    GPU_mem   box_loss   cls_loss   dfl_loss  Instances       Size\n"
          ]
        },
        {
          "output_type": "stream",
          "name": "stderr",
          "text": [
            "    100/100      4.43G     0.6858     0.7046      1.229          8        640: 100%|██████████| 506/506 [02:08<00:00,  3.94it/s]\n",
            "                 Class     Images  Instances      Box(P          R      mAP50  mAP50-95): 100%|██████████| 32/32 [00:06<00:00,  4.71it/s]\n"
          ]
        },
        {
          "output_type": "stream",
          "name": "stdout",
          "text": [
            "                   all       1008        998      0.715      0.717      0.773      0.637\n",
            "\n",
            "100 epochs completed in 3.888 hours.\n",
            "Optimizer stripped from runs/detect/train/weights/last.pt, 6.9MB\n",
            "Optimizer stripped from runs/detect/train/weights/best.pt, 6.9MB\n",
            "\n",
            "Validating runs/detect/train/weights/best.pt...\n",
            "Ultralytics YOLOv8.2.103 🚀 Python-3.12.11 torch-2.8.0+cu126 CUDA:0 (Tesla T4, 15095MiB)\n",
            "Model summary (fused): 168 layers, 3,348,905 parameters, 0 gradients, 9.7 GFLOPs\n"
          ]
        },
        {
          "output_type": "stream",
          "name": "stderr",
          "text": [
            "                 Class     Images  Instances      Box(P          R      mAP50  mAP50-95): 100%|██████████| 32/32 [00:08<00:00,  3.80it/s]\n"
          ]
        },
        {
          "output_type": "stream",
          "name": "stdout",
          "text": [
            "                   all       1008        998      0.699      0.736      0.778      0.643\n",
            "            Acartiidae         11         11      0.787          1      0.965      0.826\n",
            "            Actiniaria          3         11      0.884      0.696      0.948      0.784\n",
            "        Actinopterygii         12         12       0.82      0.833      0.862      0.767\n",
            "            Aetideidae          5          5      0.343        0.4      0.374      0.316\n",
            "               Aglaura         13         13      0.842          1      0.975      0.862\n",
            "             Amphipoda         10         10       0.94          1      0.995      0.869\n",
            "              Annelida         10         10      0.564      0.649      0.709      0.594\n",
            "        Appendicularia         13         13      0.557      0.774      0.651       0.57\n",
            "               Atlanta          6          6          1      0.946      0.995       0.88\n",
            "     Bivalvia_Mollusca         11         11      0.694      0.818      0.895      0.655\n",
            "         Branchiostoma         13         13      0.887          1      0.995      0.794\n",
            "             Calanidae         11         11      0.744      0.909       0.86      0.673\n",
            "             Calanoida          8          8      0.382        0.5       0.51      0.403\n",
            "           Calocalanus          8          8      0.947      0.875      0.912      0.762\n",
            "           Candaciidae          8          8      0.783      0.459      0.825      0.683\n",
            "          Cavoliniidae          4          4      0.878        0.5      0.585      0.524\n",
            "         Centropagidae         11         11          1      0.975      0.995      0.827\n",
            "           Cephalopoda          3          3      0.292      0.333      0.264      0.198\n",
            "          Chaetognatha         10         10      0.884          1      0.995      0.831\n",
            "             Cladocera          8          8      0.918      0.875      0.923      0.719\n",
            "      Cnidaria_Metazoa          6          6      0.244      0.333      0.334        0.3\n",
            "           Corycaeidae          8          8      0.781          1      0.923      0.746\n",
            "             Creseidae          1          1      0.421          1      0.497      0.298\n",
            "    Ctenophora_Metazoa          8          8      0.622       0.25      0.357        0.3\n",
            "               Cumacea          6          6      0.829      0.814      0.948       0.82\n",
            "       Cymbulia peroni          3          3          1      0.919      0.995      0.831\n",
            "              Decapoda          8          8      0.493      0.366      0.475      0.413\n",
            "               Diatoma          7          7      0.991          1      0.995       0.73\n",
            "             Doliolida         11         11      0.681      0.636      0.751        0.6\n",
            "         Echinodermata         12         12      0.841          1      0.984      0.832\n",
            "           Eucalanidae          8          8      0.842      0.875      0.908       0.82\n",
            "           Euchaetidae          6          6      0.512        0.5      0.634      0.531\n",
            "            Euchirella          2          2      0.326      0.489      0.308      0.277\n",
            "        Eumalacostraca          4          4      0.301       0.25      0.463      0.417\n",
            "          Euphausiacea          6          6      0.533      0.333       0.56      0.499\n",
            "             Euterpina         16         16      0.809      0.812      0.873      0.738\n",
            "          Foraminifera          9          9      0.824          1      0.995      0.868\n",
            "        Fritillariidae          6          6      0.592          1      0.876      0.779\n",
            "            Haloptilus          3          3      0.727          1      0.995      0.697\n",
            "                Harosa          9          9      0.592      0.778      0.814       0.64\n",
            "         Harpacticoida          7          7      0.597      0.857      0.776      0.643\n",
            "       Heterorhabdidae         10         10      0.433        0.4      0.455      0.386\n",
            "               Insecta          1          1       0.71          1      0.995      0.895\n",
            "               Isopoda          8          8      0.724      0.984      0.962      0.866\n",
            "           Limacinidae         10         10      0.367        0.6      0.556      0.453\n",
            "   Liriope tetraphylla         10         10      0.906          1      0.995      0.915\n",
            "             Lubbockia          3          3       0.67          1      0.913      0.781\n",
            "          Metridinidae          7          7      0.851      0.714       0.91      0.705\n",
            "          Microsetella         11         11       0.96          1      0.995      0.728\n",
            "         Monstrilloida          3          3      0.838          1      0.995      0.863\n",
            "                Mysida         12         12      0.863       0.75      0.875      0.718\n",
            "       Nannosquillidae          5          5      0.842        0.8      0.962      0.893\n",
            "              Nemertea          2          2      0.465        0.5      0.638       0.56\n",
            "           Neoceratium          7          7      0.944      0.714      0.878       0.58\n",
            "Noctiluca_Noctilucaceae         12         12      0.785          1      0.983      0.842\n",
            "                Obelia         10         10      0.887          1      0.968      0.802\n",
            "            Oithonidae          9          9       0.76      0.889      0.935       0.69\n",
            "             Oncaeidae         10         10       0.86          1      0.995      0.777\n",
            "             Ostracoda         12         12      0.666      0.667      0.737      0.666\n",
            "             Paguridae          3          3      0.845          1      0.995      0.895\n",
            "           Peltidiidae         10         10      0.812          1      0.968      0.716\n",
            "             Phoronida          5          5          1        0.8        0.8      0.658\n",
            "           Pleuromamma          9          9      0.752      0.889      0.961      0.802\n",
            "           Pontellidae         12         12      0.641      0.596      0.729      0.625\n",
            "         Rhincalanidae         15         15      0.938      0.867      0.965      0.799\n",
            "               Salpida          8          8      0.581       0.75      0.819      0.697\n",
            "         Sapphirinidae          2          2      0.676        0.5      0.498      0.448\n",
            "Solmundella bitentaculata         10         10       0.86        0.6      0.751      0.658\n",
            "             Temoridae          7          7      0.726      0.761      0.885      0.766\n",
            "           Thecosomata          8          8      0.688      0.555      0.609       0.48\n",
            "          Tomopteridae          8          8          1      0.954      0.995      0.684\n",
            "     actinula_Hydrozoa          4          4      0.595       0.75      0.588      0.511\n",
            "              artefact          9          9      0.806          1      0.929      0.752\n",
            "     badfocus_Copepoda         12         12      0.643      0.751      0.905      0.624\n",
            "     badfocus_artefact         11         11      0.762      0.909      0.815      0.689\n",
            "       bract_Diphyidae          7          7      0.496      0.429       0.71      0.543\n",
            "                bubble         13         13      0.966          1      0.995      0.713\n",
            "calyptopsis_Euphausiacea         12         12      0.837          1      0.964      0.806\n",
            "            cyphonaute          9          9       0.88          1      0.984      0.836\n",
            "                cypris          6          6       0.66      0.833      0.877      0.655\n",
            "         dead_Copepoda          6          6      0.495      0.667      0.568      0.478\n",
            "              detritus          8          8      0.721       0.65      0.723      0.567\n",
            "           egg sac_egg          6          6          1      0.959      0.995       0.83\n",
            "egg unkn temp_Engraulidae temp_          8          8      0.728      0.875      0.946       0.86\n",
            "    egg_Actinopterygii          5          5      0.765          1      0.995      0.898\n",
            "             egg_other         10         10      0.579        0.6      0.715       0.53\n",
            "      ephyra_Scyphozoa          7          7      0.932          1      0.995      0.906\n",
            "     eudoxie_Diphyidae          7          7      0.443      0.571      0.583      0.507\n",
            "        fiber_detritus          8          8       0.66       0.75      0.885      0.726\n",
            "   gonophore_Diphyidae          5          5      0.495        0.8      0.757      0.601\n",
            "       larvae_Annelida          5          5      0.143        0.2     0.0965     0.0761\n",
            "      larvae_Crustacea          8          8      0.469       0.75      0.748       0.66\n",
            "  larvae_Echinodermata          9          9      0.417      0.444      0.485      0.389\n",
            "         larvae_Mysida          7          7      0.827          1      0.978       0.78\n",
            "  larvae_Porcellanidae          8          8      0.885      0.965      0.982       0.87\n",
            "     larvae_Squillidae          3          3          1          0       0.58      0.522\n",
            "      like_Laomediidae          4          4      0.981          1      0.995       0.83\n",
            "              megalopa          6          6       0.78          1      0.995      0.781\n",
            "     multiple_Copepoda          7          7      0.693      0.652      0.748      0.591\n",
            "        multiple_other         10         10      0.662        0.2      0.481      0.413\n",
            "    nauplii_Cirripedia          8          8      0.673      0.875      0.851      0.676\n",
            "     nauplii_Crustacea         10         10      0.668      0.807      0.866      0.657\n",
            "  nectophore_Diphyidae          9          9      0.851      0.889      0.916       0.67\n",
            "nectophore_Physonectae          5          5      0.664          1      0.995      0.793\n",
            "          other_living          8          8      0.344      0.125      0.214       0.17\n",
            "         part_Annelida         11         11      0.492      0.545      0.578      0.512\n",
            "         part_Cnidaria         13         13      0.275     0.0895       0.29      0.251\n",
            "        part_Crustacea         10         10      0.633      0.691      0.743      0.672\n",
            "       part_Ctenophora          6          6      0.476      0.833      0.795      0.729\n",
            "    part_Siphonophorae          9          9      0.635      0.444      0.379      0.309\n",
            "        part_Thaliacea          5          5          1          0       0.21      0.173\n",
            "            phyllosoma          4          4      0.733      0.698      0.794      0.722\n",
            "     pilidium_Nemertea          2          2      0.472        0.5      0.695      0.467\n",
            "    pluteus_Echinoidea          8          8      0.491      0.625      0.503      0.378\n",
            "   pluteus_Ophiuroidea          6          6      0.223      0.167      0.283      0.233\n",
            "      protozoea_Mysida          6          6      0.448          1      0.913      0.781\n",
            "   protozoea_Penaeidae          2          2      0.387        0.5      0.414      0.373\n",
            "protozoea_Sergestidae_          3          3      0.405      0.667       0.83      0.709\n",
            "                 scale          6          6      0.629      0.574      0.687      0.589\n",
            "            siphonula_          5          5      0.648        0.2      0.301      0.233\n",
            "   tail_Appendicularia         11         11      0.825      0.909      0.873      0.699\n",
            "     tail_Chaetognatha         12         12      0.697       0.75      0.905      0.732\n",
            "       tornaria larvae         11         11      0.619       0.74      0.774      0.646\n",
            "  trunk_Appendicularia         13         13      0.875      0.692      0.913      0.702\n",
            "         zoea_Decapoda         13         13          1      0.907      0.995      0.802\n",
            "      zoea_Galatheidae         11         11       0.82      0.727      0.856      0.739\n",
            "Speed: 0.2ms preprocess, 2.0ms inference, 0.0ms loss, 1.5ms postprocess per image\n",
            "Results saved to \u001b[1mruns/detect/train\u001b[0m\n"
          ]
        }
      ],
      "source": [
        "from ultralytics import YOLO\n",
        "\n",
        "# Regular detection model\n",
        "model = YOLO('yolov8n.pt')  # or yolov8s.pt for better accuracy\n",
        "\n",
        "# Train\n",
        "results = model.train(\n",
        "    data=f\"{dataset.location}/data.yaml\",\n",
        "    epochs=100,\n",
        "    imgsz=640\n",
        ")\n"
      ]
    },
    {
      "cell_type": "markdown",
      "metadata": {
        "id": "JG7cc0zc41sB"
      },
      "source": [
        "Your model will train for 100 epochs. After training, you can run test your model using an image from your test set."
      ]
    },
    {
      "cell_type": "markdown",
      "metadata": {
        "id": "18EW7RaZ51Hv"
      },
      "source": [
        "## Test the OBB Object Detection Model\n",
        "\n",
        "Let's test our OBB detection model on an image:"
      ]
    },
    {
      "cell_type": "code",
      "execution_count": 20,
      "metadata": {
        "colab": {
          "base_uri": "https://localhost:8080/",
          "height": 1000
        },
        "id": "xIy9g1k45z9e",
        "outputId": "1a14066c-0734-45ba-c95d-b1eea0bbf50f"
      },
      "outputs": [
        {
          "output_type": "stream",
          "name": "stdout",
          "text": [
            "\n",
            "image 1/1 /content/datasets/Plankton-Detection-SIH-7/test/images/335142181_jpg.rf.a79c14e5727b5696595a5039d1479b47.jpg: 512x640 1 Solmundella bitentaculata, 7.3ms\n",
            "Speed: 2.1ms preprocess, 7.3ms inference, 1.5ms postprocess per image at shape (1, 3, 512, 640)\n",
            "ultralytics.engine.results.Results object with attributes:\n",
            "\n",
            "boxes: ultralytics.engine.results.Boxes object\n",
            "keypoints: None\n",
            "masks: None\n",
            "names: {0: 'Acartiidae', 1: 'Actiniaria', 2: 'Actinopterygii', 3: 'Aetideidae', 4: 'Aglaura', 5: 'Amphipoda', 6: 'Annelida', 7: 'Appendicularia', 8: 'Atlanta', 9: 'Bivalvia_Mollusca', 10: 'Branchiostoma', 11: 'Calanidae', 12: 'Calanoida', 13: 'Calocalanus', 14: 'Candaciidae', 15: 'Cavoliniidae', 16: 'Centropagidae', 17: 'Cephalopoda', 18: 'Chaetognatha', 19: 'Cladocera', 20: 'Cnidaria_Metazoa', 21: 'Corycaeidae', 22: 'Creseidae', 23: 'Ctenophora_Metazoa', 24: 'Cumacea', 25: 'Cymbulia peroni', 26: 'Decapoda', 27: 'Diatoma', 28: 'Doliolida', 29: 'Echinodermata', 30: 'Eucalanidae', 31: 'Euchaetidae', 32: 'Euchirella', 33: 'Eumalacostraca', 34: 'Euphausiacea', 35: 'Euterpina', 36: 'Foraminifera', 37: 'Fritillariidae', 38: 'Haloptilus', 39: 'Harosa', 40: 'Harpacticoida', 41: 'Heterorhabdidae', 42: 'Insecta', 43: 'Isopoda', 44: 'Limacinidae', 45: 'Liriope tetraphylla', 46: 'Lubbockia', 47: 'Metridinidae', 48: 'Microsetella', 49: 'Monstrilloida', 50: 'Mysida', 51: 'Nannosquillidae', 52: 'Nemertea', 53: 'Neoceratium', 54: 'Noctiluca_Noctilucaceae', 55: 'Obelia', 56: 'Oithonidae', 57: 'Oncaeidae', 58: 'Ostracoda', 59: 'Paguridae', 60: 'Peltidiidae', 61: 'Penaeoidea', 62: 'Phoronida', 63: 'Pleuromamma', 64: 'Pontellidae', 65: 'Rhincalanidae', 66: 'Salpida', 67: 'Sapphirinidae', 68: 'Solmundella bitentaculata', 69: 'Temoridae', 70: 'Thecosomata', 71: 'Tomopteridae', 72: 'actinula_Hydrozoa', 73: 'artefact', 74: 'badfocus_Copepoda', 75: 'badfocus_artefact', 76: 'bract_Diphyidae', 77: 'bubble', 78: 'calyptopsis_Euphausiacea', 79: 'cyphonaute', 80: 'cypris', 81: 'dead_Copepoda', 82: 'detritus', 83: 'egg sac_egg', 84: 'egg unkn temp_Engraulidae temp_', 85: 'egg_Actinopterygii', 86: 'egg_other', 87: 'ephyra_Scyphozoa', 88: 'eudoxie_Diphyidae', 89: 'fiber_detritus', 90: 'gonophore_Diphyidae', 91: 'larvae_Annelida', 92: 'larvae_Crustacea', 93: 'larvae_Echinodermata', 94: 'larvae_Mysida', 95: 'larvae_Porcellanidae', 96: 'larvae_Squillidae', 97: 'like_Laomediidae', 98: 'megalopa', 99: 'multiple_Copepoda', 100: 'multiple_other', 101: 'nauplii_Cirripedia', 102: 'nauplii_Crustacea', 103: 'nectophore_Diphyidae', 104: 'nectophore_Physonectae', 105: 'other_living', 106: 'part_Annelida', 107: 'part_Cnidaria', 108: 'part_Crustacea', 109: 'part_Ctenophora', 110: 'part_Siphonophorae', 111: 'part_Thaliacea', 112: 'phyllosoma', 113: 'pilidium_Nemertea', 114: 'pluteus_Echinoidea', 115: 'pluteus_Ophiuroidea', 116: 'protozoea_Mysida', 117: 'protozoea_Penaeidae', 118: 'protozoea_Sergestidae_', 119: 'scale', 120: 'siphonula_', 121: 'tail_Appendicularia', 122: 'tail_Chaetognatha', 123: 'tornaria larvae', 124: 'trunk_Appendicularia', 125: 'zoea_Decapoda', 126: 'zoea_Galatheidae'}\n",
            "obb: None\n",
            "orig_img: array([[[255, 255, 255],\n",
            "        [255, 255, 255],\n",
            "        [255, 255, 255],\n",
            "        ...,\n",
            "        [255, 255, 255],\n",
            "        [255, 255, 255],\n",
            "        [255, 255, 255]],\n",
            "\n",
            "       [[255, 255, 255],\n",
            "        [255, 255, 255],\n",
            "        [255, 255, 255],\n",
            "        ...,\n",
            "        [255, 255, 255],\n",
            "        [255, 255, 255],\n",
            "        [255, 255, 255]],\n",
            "\n",
            "       [[255, 255, 255],\n",
            "        [255, 255, 255],\n",
            "        [255, 255, 255],\n",
            "        ...,\n",
            "        [255, 255, 255],\n",
            "        [255, 255, 255],\n",
            "        [255, 255, 255]],\n",
            "\n",
            "       ...,\n",
            "\n",
            "       [[255, 255, 255],\n",
            "        [255, 255, 255],\n",
            "        [255, 255, 255],\n",
            "        ...,\n",
            "        [255, 255, 255],\n",
            "        [255, 255, 255],\n",
            "        [255, 255, 255]],\n",
            "\n",
            "       [[255, 255, 255],\n",
            "        [255, 255, 255],\n",
            "        [255, 255, 255],\n",
            "        ...,\n",
            "        [255, 255, 255],\n",
            "        [255, 255, 255],\n",
            "        [255, 255, 255]],\n",
            "\n",
            "       [[255, 255, 255],\n",
            "        [255, 255, 255],\n",
            "        [255, 255, 255],\n",
            "        ...,\n",
            "        [255, 255, 255],\n",
            "        [255, 255, 255],\n",
            "        [255, 255, 255]]], dtype=uint8)\n",
            "orig_shape: (350, 448)\n",
            "path: '/content/datasets/Plankton-Detection-SIH-7/test/images/335142181_jpg.rf.a79c14e5727b5696595a5039d1479b47.jpg'\n",
            "probs: None\n",
            "save_dir: 'runs/detect/predict'\n",
            "speed: {'preprocess': 2.0914077758789062, 'inference': 7.29680061340332, 'postprocess': 1.4774799346923828}\n"
          ]
        },
        {
          "output_type": "execute_result",
          "data": {
            "text/plain": [
              "'prediction.jpg'"
            ],
            "application/vnd.google.colaboratory.intrinsic+json": {
              "type": "string"
            }
          },
          "metadata": {},
          "execution_count": 20
        }
      ],
      "source": [
        "from ultralytics import YOLO\n",
        "import os\n",
        "import random\n",
        "\n",
        "# Load your trained YOLOv8n model\n",
        "model = YOLO('runs/detect/train/weights/best.pt')  # <- notice \"detect\", not \"obb\"\n",
        "\n",
        "# Pick a random test image from your dataset\n",
        "random_file = random.choice(os.listdir(f\"{dataset.location}/test/images\"))\n",
        "file_name = os.path.join(f\"{dataset.location}/test/images\", random_file)\n",
        "\n",
        "# Run inference\n",
        "results = model(file_name)\n",
        "\n",
        "# Print results (detections, confidence scores, etc.)\n",
        "print(results[0])\n",
        "\n",
        "# Optionally, save or show the image with detections\n",
        "results[0].show()   # Display in notebook (if supported)\n",
        "results[0].save(filename=\"prediction.jpg\")  # Save to file"
      ]
    },
    {
      "cell_type": "markdown",
      "metadata": {
        "id": "ZxsVRrkb9pZL"
      },
      "source": [
        "We can visualize our oriented bounding box predictions using the following code:"
      ]
    },
    {
      "cell_type": "code",
      "execution_count": 11,
      "metadata": {
        "colab": {
          "base_uri": "https://localhost:8080/",
          "height": 527
        },
        "id": "EAG1S96m9owT",
        "outputId": "5ab87b47-81ef-4a7f-d889-7bcd8f629211"
      },
      "outputs": [
        {
          "output_type": "stream",
          "name": "stdout",
          "text": [
            "\u001b[?25l   \u001b[90m━━━━━━━━━━━━━━━━━━━━━━━━━━━━━━━━━━━━━━━━\u001b[0m \u001b[32m0.0/158.2 kB\u001b[0m \u001b[31m?\u001b[0m eta \u001b[36m-:--:--\u001b[0m\r\u001b[2K   \u001b[90m━━━━━━━━━━━━━━━━━━━━━━━━━━━━━━━━━━━━━━━━\u001b[0m \u001b[32m158.2/158.2 kB\u001b[0m \u001b[31m17.3 MB/s\u001b[0m eta \u001b[36m0:00:00\u001b[0m\n",
            "\u001b[?25h"
          ]
        },
        {
          "output_type": "execute_result",
          "data": {
            "text/plain": [
              "<PIL.Image.Image image mode=RGB size=900x703>"
            ],
            "image/png": "[encoded data removed]",
            "image/jpeg": "[encoded data removed]"
          },
          "metadata": {},
          "execution_count": 11
        }
      ],
      "source": [
        "!pip install supervision==0.24.0 -q\n",
        "\n",
        "import supervision as sv\n",
        "import cv2\n",
        "\n",
        "# Convert YOLO results to supervision format\n",
        "detections = sv.Detections.from_ultralytics(results[0])\n",
        "\n",
        "# Use BoxAnnotator for YOLOv8n detection (not oriented boxes)\n",
        "box_annotator = sv.BoxAnnotator()\n",
        "\n",
        "# Draw bounding boxes on the image\n",
        "annotated_frame = box_annotator.annotate(\n",
        "    scene=cv2.imread(file_name),\n",
        "    detections=detections\n",
        ")\n",
        "\n",
        "# Resize for display\n",
        "annotated_frame = sv.resize_image(\n",
        "    annotated_frame,\n",
        "    resolution_wh=(900, 900),\n",
        "    keep_aspect_ratio=True\n",
        ")\n",
        "\n",
        "# Convert to PIL image for notebook display\n",
        "sv.cv2_to_pillow(annotated_frame)"
      ]
    },
    {
      "cell_type": "code",
      "source": [
        "model.export(format='tflite', imgsz=640, int8=False)  # No quantization"
      ],
      "metadata": {
        "id": "Obw3Ih3WuABc"
      },
      "execution_count": null,
      "outputs": []
    }
  ],
  "metadata": {
    "accelerator": "GPU",
    "colab": {
      "gpuType": "T4",
      "provenance": [],
      "include_colab_link": true
    },
    "kernelspec": {
      "display_name": "Python 3",
      "name": "python3"
    },
    "language_info": {
      "name": "python"
    }
  },
  "nbformat": 4,
  "nbformat_minor": 0
}